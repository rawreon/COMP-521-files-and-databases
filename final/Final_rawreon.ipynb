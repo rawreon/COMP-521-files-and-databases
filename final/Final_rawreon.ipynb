{
 "cells": [
  {
   "cell_type": "markdown",
   "metadata": {
    "section": "header"
   },
   "source": [
    "<div style=\"text-align: center;\">\n",
    "<h1>The University of North Carolina at Chapel Hill</h1>\n",
    "<h1>Comp 521 Files and Databases - Fall 2020</h1>\n",
    "<h1 style=\"font-size: 250%;\">Final Exam</h1>\n",
    "<h1>Thursday, November 19, 2020</h1>\n",
    "</div>\n",
    "\n",
    "**Instructions:** Answer all questions using the cells provided. Feel free to add additional cells to your notebook, but there is no guarantee that they will be considered when grading. If any question seems unclear or appears to lack sufficient information, state a reasonable assumption in the cell provided for your answer and proceed.\n",
    "\n",
    "You can use any notes, books, or on-line materials to aid when answering your questions, so long as they do not involve communication with any other person.\n",
    "\n",
    "Here are some general guidance. None of the Problems are designed to be \"tricky\". If a problem seems unclear or lacks specifications, make a reasonable assumption and state it in the answer box *before the prompt\". Then place your answer after the appropriate prompt. If you want to show additonal work for partial credit, add it after the prompt."
   ]
  },
  {
   "cell_type": "code",
   "execution_count": 2,
   "metadata": {
    "section": "signature"
   },
   "outputs": [],
   "source": [
    "# Please verify the following signature data. Fix any value that is incorrect\n",
    "class Student:\n",
    "    first = \"Wayne\"\n",
    "    last = \"Ji\"\n",
    "    onyen = \"rawreon\"\n",
    "    pid = \"730168641\""
   ]
  },
  {
   "cell_type": "markdown",
   "metadata": {
    "section": "setup"
   },
   "source": [
    "---\n",
    "The following questions refer to the Covid-19 relational database used throughout the course. The database has the following tables:\n",
    "<table style=\"border:none;\"><tbody>\n",
    "        <tr style=\"border:none;\">\n",
    "            <td style=\"padding:0px 20px;border:none;\" colspan=\"2\">\n",
    "            <table style=\"border-collapse: collapse; border: 1px solid black;\"><tbody>\n",
    "            <tr style=\"border-collapse: collapse; border: 1px solid black;\">\n",
    "                <th colspan=\"7\" style=\"text-align:center; background-color: skyblue;\">Demograpics</th></tr>\n",
    "            <tr style=\"border-collapse: collapse; border: 1px solid black;\">\n",
    "                <td style=\"border-collapse: collapse; border: 1px solid black;\"><u>fips</u></td>\n",
    "                <td style=\"border-collapse: collapse; border: 1px solid black;\"><u>year</u></td>\n",
    "                <td style=\"border-collapse: collapse; border: 1px solid black;\"><u>race</u></td>\n",
    "                <td style=\"border-collapse: collapse; border: 1px solid black;\"><u>sex</u></td>\n",
    "                <td style=\"border-collapse: collapse; border: 1px solid black;\"><u>agelo</u></td>\n",
    "                <td style=\"border-collapse: collapse; border: 1px solid black;\">agehi</td>\n",
    "                <td style=\"border-collapse: collapse; border: 1px solid black;\">count</td>\n",
    "            </tr>\n",
    "            </tbody></table>\n",
    "            </td>\n",
    "            <td style=\"padding:0px 20px;border:none;\" colspan=\"2\">\n",
    "            <table style=\"border-collapse: collapse; border: 1px solid black;\"><tbody>\n",
    "            <tr style=\"border-collapse: collapse; border: 1px solid black;\">\n",
    "                <th colspan=\"5\" style=\"text-align:center; background-color: skyblue;\">County</th></tr>\n",
    "            <tr style=\"border-collapse: collapse; border: 1px solid black;\">\n",
    "                <td style=\"border-collapse: collapse; border: 1px solid black;\"><u>fips</u></td>\n",
    "                <td style=\"border-collapse: collapse; border: 1px solid black;\">name</td>\n",
    "                <td style=\"border-collapse: collapse; border: 1px solid black;\">region</td>\n",
    "                <td style=\"border-collapse: collapse; border: 1px solid black;\">cog</td>\n",
    "                <td style=\"border-collapse: collapse; border: 1px solid black;\">msa</td>\n",
    "            </tr>\n",
    "            </tbody></table>\n",
    "            </td>\n",
    "            <td style=\"padding:0px 20px;border:none;\" colspan=\"2\">\n",
    "            <table style=\"border-collapse: collapse; border: 1px solid black;\"><tbody>\n",
    "            <tr style=\"border-collapse: collapse; border: 1px solid black;\">\n",
    "                <th colspan=\"4\" style=\"text-align:center; background-color: skyblue;\">Covid19</th></tr>\n",
    "            <tr style=\"border-collapse: collapse; border: 1px solid black;\">\n",
    "                <td style=\"border-collapse: collapse; border: 1px solid black;\"><u>fips</u></td>\n",
    "                <td style=\"border-collapse: collapse; border: 1px solid black;\"><u>date</u></td>\n",
    "                <td style=\"border-collapse: collapse; border: 1px solid black;\">cases</td>\n",
    "                <td style=\"border-collapse: collapse; border: 1px solid black;\">death</td>\n",
    "            </tr>\n",
    "            </tbody></table>\n",
    "            </td>\n",
    "        </tr>\n",
    "        <tr style=\"border:none;\">\n",
    "            <td colspan=\"6\" style=\"border:none;\">&nbsp;</td>\n",
    "        </tr>\n",
    "        <tr style=\"border:none;\">\n",
    "            <td style=\"padding:0px 20px;border:none;\"  colspan=\"3\">\n",
    "            <table style=\"border-collapse: collapse; border: 1px solid black;\"><tbody>\n",
    "            <tr style=\"border-collapse: collapse; border: 1px solid black;\">\n",
    "                <th colspan=\"8\" style=\"text-align:center; background-color: skyblue;\">Hospital</th></tr>\n",
    "            <tr style=\"border-collapse: collapse; border: 1px solid black;\">\n",
    "                <td style=\"border-collapse: collapse; border: 1px solid black;\"><u>hid</u></td>\n",
    "                <td style=\"border-collapse: collapse; border: 1px solid black;\">name</td>\n",
    "                <td style=\"border-collapse: collapse; border: 1px solid black;\">city</td>\n",
    "                <td style=\"border-collapse: collapse; border: 1px solid black;\">beds</td>\n",
    "                <td style=\"border-collapse: collapse; border: 1px solid black;\">icu</td>\n",
    "                <td style=\"border-collapse: collapse; border: 1px solid black;\">discharges</td>\n",
    "                <td style=\"border-collapse: collapse; border: 1px solid black;\">patientdays</td>\n",
    "                <td style=\"border-collapse: collapse; border: 1px solid black;\">revenue</td>\n",
    "            </tr>\n",
    "            </tbody></table>\n",
    "            </td>\n",
    "            <td style=\"padding:0px 20px;border:none;\" colspan=\"3\">\n",
    "            <table style=\"border-collapse: collapse; border: 1px solid black;\"><tbody>\n",
    "            <tr style=\"border-collapse: collapse; border: 1px solid black;\">\n",
    "                <th colspan=\"3\" style=\"text-align:center; background-color: skyblue;\">HospitalCounty</th></tr>\n",
    "            <tr style=\"border-collapse: collapse; border: 1px solid black;\">\n",
    "                <td style=\"border-collapse: collapse; border: 1px solid black;\"><u>hid</u></td>\n",
    "                <td style=\"border-collapse: collapse; border: 1px solid black;\"><u>fips</u></td>\n",
    "                <td style=\"border-collapse: collapse; border: 1px solid black;\">incounty</td>\n",
    "            </tr>\n",
    "            </tbody></table>\n",
    "            </td>\n",
    "        </tr>\n",
    "        </tbody></table>\n",
    "\n",
    "The table sizes of these relations is characterized by the following statistics:\n",
    "\n",
    "| table / index\t| pages\t| records\t| unused bytes |\n",
    "| ----- | --------- | --------- | ----------- |\n",
    "| Demographics\t| 2240\t| 283138\t| 38529 |\n",
    "| County\t| 3\t| 100\t| 3243 |\n",
    "| Covid19\t| 75\t| 11215\t| 38954 |\n",
    "| Hospital\t| 2\t| 108\t| 1625 |\n",
    "| HospitalCounty\t| 1\t| 115\t| 2593 |\n",
    "\n",
    "An <a href=\"http://csbio.unc.edu/mcmillan/Media/NCCOVID19.db\" download>example instance of this database</a> is available to download."
   ]
  },
  {
   "cell_type": "markdown",
   "metadata": {
    "case": 2,
    "key": "C01",
    "number": 1,
    "section": "problem"
   },
   "source": [
    "---\n",
    "**Problem #1:** Consider evaluating the following query:\n",
    "\n",
    "     SELECT *\n",
    "     FROM Covid19 V, Demographics D\n",
    "     WHERE V.fips=D.fips AND D.race <> \"white\"\n",
    "\n",
    "using a \"Block Nested Loop Join\" as represented by the following pseudocode:\n",
    "\n",
    "<pre>\n",
    "1) Load all pages of R1\n",
    "2) Load first page of R2\n",
    "3) for each record, s, in R2 page:\n",
    "4)    Find all records, r, in R1 matching the WHERE conditions, add tuple (r,s) to result\n",
    "5)    if next page of R2 is not null:\n",
    "6)        load next page of R2\n",
    "7)    else:\n",
    "8)        break\n",
    "</pre>\n",
    "\n",
    "What is the minimum number of page buffers required such that the given \"Block Nested Loop Join\" can be accomplished without reading any page more than once? Given this number of page buffers, which of the two tables would be used as R1?"
   ]
  },
  {
   "cell_type": "raw",
   "metadata": {
    "case": 2,
    "key": "C01",
    "number": 1,
    "section": "answer"
   },
   "source": [
    "Minimum number of page buffers needed for given query evaluation: 75\n",
    "Which table is used as R1: Demographics"
   ]
  },
  {
   "cell_type": "markdown",
   "metadata": {
    "case": 2,
    "key": "C02",
    "number": 2,
    "section": "problem"
   },
   "source": [
    "---\n",
    "**Problem #2:** Given the query from **Problem #1**, would an evaluation strategy that takes advantage of a B<sup>+</sup>-tree built on the Demographics relation using the search-key <em>&lt;race, fips&gt;</em> provide a significant performance advantage, if the primary data is not clustered wth regard to this search key? Use the given instance of the NCCOVID.db database to estimate noth the fewest and largest number of Demographics pages that might be accessed as a result of using the B<sup>+</sup>-tree."
   ]
  },
  {
   "cell_type": "raw",
   "metadata": {
    "case": 2,
    "key": "C02",
    "number": 2,
    "section": "answer"
   },
   "source": [
    "Is the suggested index likely to provide a significant performance advantage (Yes or No): No\n",
    "Give your estimate of the fewest number of pages accessed using the given index:2000\n",
    "Give your estimate of the largest number of pages accessed using the given index:4000"
   ]
  },
  {
   "cell_type": "markdown",
   "metadata": {
    "case": 0,
    "key": "C03",
    "number": 3,
    "section": "problem"
   },
   "source": [
    "---\n",
    "**Problem #3:** . In step 4) of the query evaluation strategy suggested in **Problem #1** the \"Find\" operation can be implemented in one of three ways.\n",
    "\n",
    "1. *Hashing* - Where the records of R1 are hashed based on their *fips* attribute after step 1, and during step 4 this hash is used to find matching records and filter them based on the remainder of the where condition.\n",
    "2. *Sorting* - Where the records of R1 are sorted based on their *fips* attribute after step 1, and during step 4 the sorted records are searched used to find matching records and filter them based on the remainder of the where condition.\n",
    "3. *Scanning* - Where the records of R1 are scanned during step 4 to find records matching the *fips* of the current s record and filter them based on the remainder of the where condition.\n",
    "\n",
    "Which of these three \"Find\" approaches leads to the fastest inner loop? Which of these \"Find\" methods might require the allocation of more page buffers?"
   ]
  },
  {
   "cell_type": "raw",
   "metadata": {
    "case": 0,
    "key": "C03",
    "number": 3,
    "section": "answer"
   },
   "source": [
    "Of methods 1, 2, or 3, which likely provides the greatest performance advantage: 2\n",
    "Of methods 1, 2, or 3, which might require addional page buffers:1"
   ]
  },
  {
   "cell_type": "markdown",
   "metadata": {
    "case": 0,
    "key": "C04",
    "number": 4,
    "section": "problem"
   },
   "source": [
    "---\n",
    "**Problem #4:** How many passes are required to perform an external sort the Covid19 relation by *date* using 7 page buffers under the assumption that all 7 buffers are used for an in-memory sort in Pass 0, and subsequent Passes use double buffering (i.e. 2 page buffers are used per run when merging). (Hint: the formula from the lecture notes cannot be directly applied here) "
   ]
  },
  {
   "cell_type": "raw",
   "metadata": {
    "case": 0,
    "key": "C04",
    "number": 4,
    "section": "answer"
   },
   "source": [
    "Number of passes required (integer):3"
   ]
  },
  {
   "cell_type": "markdown",
   "metadata": {
    "case": 1,
    "key": "C05",
    "number": 5,
    "section": "problem"
   },
   "source": [
    "---\n",
    "**Problem #5:** In an effort to eliminate redundancy in NCCOVID19.db you are asked to decompose Covid19 relation. This involves decomposing the original Demographics table into the following two tables:\n",
    "\n",
    "<table style=\"border:none;\"><tbody>\n",
    "    <tr style=\"border:none;\">\n",
    "       <td style=\"padding:0px 20px;border:none;\" colspan=\"2\">\n",
    "       Table 1:\n",
    "       <table style=\"border-collapse: collapse; border: 1px solid black;\"><tbody>\n",
    "       <tr style=\"border-collapse: collapse; border: 1px solid black;\">\n",
    "            <th colspan=\"5\" style=\"text-align:center; background-color: skyblue;\">DemographicGroup</th></tr>\n",
    "       <tr style=\"border-collapse: collapse; border: 1px solid black;\">\n",
    "            <td style=\"border-collapse: collapse; border: 1px solid black;\"><u>gid</u></td>\n",
    "            <td style=\"border-collapse: collapse; border: 1px solid black;\">race</td>\n",
    "            <td style=\"border-collapse: collapse; border: 1px solid black;\">sex</td>\n",
    "            <td style=\"border-collapse: collapse; border: 1px solid black;\">agelo</td>\n",
    "            <td style=\"border-collapse: collapse; border: 1px solid black;\">agehi</td>\n",
    "       </tr>\n",
    "       </tbody></table>\n",
    "       </td>\n",
    "       <td style=\"padding:0px 20px;border:none;\" colspan=\"2\">\n",
    "       Table 2:\n",
    "       <table style=\"border-collapse: collapse; border: 1px solid black;\"><tbody>\n",
    "       <tr style=\"border-collapse: collapse; border: 1px solid black;\">\n",
    "            <th colspan=\"4\" style=\"text-align:center; background-color: skyblue;\">DemographicData</th></tr>\n",
    "       <tr style=\"border-collapse: collapse; border: 1px solid black;\">\n",
    "            <td style=\"border-collapse: collapse; border: 1px solid black;\"><u>fips</u></td>\n",
    "            <td style=\"border-collapse: collapse; border: 1px solid black;\"><u>year</u></td>\n",
    "            <td style=\"border-collapse: collapse; border: 1px solid black;\"><u>gid</u></td>\n",
    "            <td style=\"border-collapse: collapse; border: 1px solid black;\">count</td>\n",
    "       </tr>\n",
    "       </tbody></table>\n",
    "       </td>\n",
    "    </tr>\n",
    " </tbody></table>\n",
    " \n",
    "where gid is an integer primary key in DemographicGroup and a foreign key in DemographicData. This design isolates modifications to demographic groups to a single row in the database. Write a SQL query to populate each table. You can assume that a CREATE TABLE commands with attributes and integrity constraints have already been executed for each table. Complete the following INSERT commands to fill each of the two tables. \n",
    "\n",
    "Note: There is a trick for assigning the *gid* field of DemographicGroup. You will first need to load all DemographicData records using an INSERT-SELECT command that specifies all fields except *gid*. This will result in a table where all *gid* attributes are initialized to *null*. Next, the following UPDATE command can be used to set *gid* to an autoincrement:\n",
    "\n",
    "     UPDATE DemographicGroup SET gid=_rowid_\n",
    "\n",
    "The resulting table now has a unique *gid* for every row, and it can be used for the second INSERT-SELECT command that loads DemographicData."
   ]
  },
  {
   "cell_type": "raw",
   "metadata": {
    "case": 1,
    "key": "C05",
    "number": 5,
    "section": "answer"
   },
   "source": [
    "-- complete the following INSERT commands to fill the tables 1 and 2 respectively\n",
    "INSERT INTO DemographicGroup\n",
    "SELECT race, sex, agelo, agehi\n",
    "FROM Demographics\n",
    "\n",
    "\n",
    "INSERT INTO DemographicData\n",
    "SELECT D.fips, D.year, D.count, G.gid\n",
    "FROM Demographics D, DemographicGroup G\n",
    "ORDER BY fips"
   ]
  },
  {
   "cell_type": "markdown",
   "metadata": {
    "case": 1,
    "key": "C06",
    "number": 6,
    "section": "problem"
   },
   "source": [
    "---\n",
    "**Problem #6:** After the INSERT commands from **Problem #5** are executed along with the suggested UPDATE for setting *gid* on the given database instance, how many rows will appear in each table?"
   ]
  },
  {
   "cell_type": "raw",
   "metadata": {
    "case": 1,
    "key": "C06",
    "number": 6,
    "section": "answer"
   },
   "source": [
    "Rows in Table 1: 190\n",
    "Rows in Table 2: 2100"
   ]
  },
  {
   "cell_type": "code",
   "execution_count": 4,
   "metadata": {},
   "outputs": [
    {
     "data": {
      "application/vnd.jupyter.widget-view+json": {
       "model_id": "f6be0f7111674006b5326862c2c246df",
       "version_major": 2,
       "version_minor": 0
      },
      "text/plain": [
       "VBox(children=(Textarea(value='', description='SQL:', layout=Layout(height='auto', width='600px')), HBox(child…"
      ]
     },
     "metadata": {},
     "output_type": "display_data"
    }
   ],
   "source": [
    "import iSQL\n",
    "query = iSQL.parser(\"NCCOVID19.db\")"
   ]
  },
  {
   "cell_type": "markdown",
   "metadata": {
    "case": 0,
    "key": "C07",
    "number": 7,
    "section": "problem"
   },
   "source": [
    "---\n",
    "**Problem #7:**. Given a table defined by the following schema:\n",
    "\n",
    "                CREATE TABLE Politican (\n",
    "                    fips       INTEGER,\n",
    "                    city       TEXT,\n",
    "                    county     TEXT,\n",
    "                    state      TEXT,\n",
    "                    governor   TEXT,\n",
    "                    mayor      TEXT\n",
    "                 )\n",
    "\n",
    "Your client has identified the following functional dependancies:\n",
    "\n",
    "<code style=\"background: white;\">\n",
    "                fips &rarr; county, state\n",
    "                state &rarr; governor\n",
    "                county, city &rarr; governor, mayor\n",
    "</code>\n",
    "\n",
    "Show that <code  style=\"background: white;\">fips, city &rarr; mayor</code> is implied by the given set of functional dependancies."
   ]
  },
  {
   "cell_type": "raw",
   "metadata": {
    "case": 0,
    "key": "C07",
    "number": 7,
    "section": "answer"
   },
   "source": [
    "Use one line for each inference and '->' to indicate implies:\n",
    "fips -> county\n",
    "fips ,city -> governor, mayor\n",
    "fips, city -> mayor"
   ]
  },
  {
   "cell_type": "markdown",
   "metadata": {
    "case": 0,
    "key": "C08",
    "number": 8,
    "section": "problem"
   },
   "source": [
    "---\n",
    "**Problem #8:** Is (*fips*, *city*) a minimal candidate key for the relation given in Problem #7? Explain why or why not."
   ]
  },
  {
   "cell_type": "raw",
   "metadata": {
    "case": 0,
    "key": "C08",
    "number": 8,
    "section": "answer"
   },
   "source": [
    "Is (zip, manager) a minimal candidate key: Yes\n",
    "Explain: You can reach county, state, and governor from fips. Then, you can reach mayor from city so you can reach all values with (fips, city)"
   ]
  },
  {
   "cell_type": "markdown",
   "metadata": {
    "case": 0,
    "key": "C09",
    "number": 9,
    "section": "problem"
   },
   "source": [
    "---\n",
    "**Problem #9:** The following events describe the sequential disk accesses for two transactions, T1: R1(A), W1(A), W1(B) and T2: R2(A) W2(B). Where Ri(X) indicates a read of block X by transaction i. Similarly, Wi(X) indicates a write.\n",
    "\n",
    "Consider the following interleaved schedule for these two transactions.\n",
    "\n",
    "    R1(A), R2(A), W1(A), W1(B), W2(B)\n",
    "\n",
    "Which of the following best decribes the result of this schedule?\n",
    "\n",
    "<p style=\"margin-left:30px\">\n",
    "A. It is equivalent to the serial execution of T1 followed by T2<br>\n",
    "B. It is equivalent to the serial execution of T2 followed by T1<br>\n",
    "C. It is not equivalent to any serial execution of T1 and T2 due to a write-read conflict<br>\n",
    "D. It is not equivalent to any serial execution of T1 and T2 due to a read-write conflict<br>\n",
    "E. It is not equivalent to any serial execution of T1 and T2 due to a write-write conflict\n",
    "</p>"
   ]
  },
  {
   "cell_type": "raw",
   "metadata": {
    "case": 0,
    "key": "C09",
    "number": 9,
    "section": "answer"
   },
   "source": [
    "Enter the letter for the single best answer from above: E"
   ]
  },
  {
   "cell_type": "markdown",
   "metadata": {
    "case": 2,
    "key": "C10",
    "number": 10,
    "section": "problem"
   },
   "source": [
    "**Problem #10:** During which of the following stages of the ARIES crash recovery protocol are new log records added to the Write-Ahead Log (WAL)?\n",
    "\n",
    "<p style=\"margin-left:30px\">\n",
    "A. Only during the Analysis phase<br>\n",
    "B. Only during the REDO phase<br>\n",
    "C. Only during the UNDO phase<br>\n",
    "D. During the REDO and UNDO phases<br>\n",
    "E. During all phases (Analysis, REDO, and UNDO)\n",
    "</p>"
   ]
  },
  {
   "cell_type": "raw",
   "metadata": {
    "case": 2,
    "key": "C10",
    "number": 10,
    "section": "answer"
   },
   "source": [
    "Enter the letter for the single best answer from above:D"
   ]
  },
  {
   "cell_type": "markdown",
   "metadata": {
    "section": "setup"
   },
   "source": [
    "The following questions reference and make use of the [covid19.json](http://csbio.unc.edu/mcmillan/Comp521F20/covid19.json) NoSQL document database used in Problem Set #5. "
   ]
  },
  {
   "cell_type": "markdown",
   "metadata": {
    "case": 2,
    "key": "C11",
    "number": 11,
    "section": "problem"
   },
   "source": [
    "---\n",
    "**Problem #11:** Write a MongoDB mapReduce function that finds every county name in the database and the number of states, which have a county with that same name (i.e. how many other common names like \"Orange County\" are there?) The output should include a county's name and a number of states."
   ]
  },
  {
   "cell_type": "raw",
   "metadata": {
    "case": 2,
    "key": "C11",
    "number": 11,
    "section": "answer"
   },
   "source": [
    "# Place your mapReduce function *only* after this line\n",
    "db.counties.aggregate({ $group:  { _id: \"$name\", states: { $sum: 1 } } }, {$match: {states: {$gte:2}}}"
   ]
  },
  {
   "cell_type": "markdown",
   "metadata": {
    "section": "setup"
   },
   "source": [
    "MongoDB has a neat *$where* operator that can be used in *.find()* queries to select documents based on the result of a JavaScript expression. For example, one can find all counties with more than 100 death records (subdocuments) as follows:\n",
    "\n",
    "    db.counties.find({$where:'this.deaths && this.deaths.length > 200'},{cases:0,deaths:0})\n",
    "    \n",
    "The first term in the expression (this.deaths) tests if the document has a \"deaths\" field, and the second term (this.deaths.length > 200) tests how many death records are in the list."
   ]
  },
  {
   "cell_type": "markdown",
   "metadata": {
    "case": 2,
    "key": "C12",
    "number": 12,
    "section": "problem"
   },
   "source": [
    "---\n",
    "**Problem #12:** Use *$where* in a .find() query find all US counties with no Covid19 death records. You should include counties without a \"deaths\" field as well as those with an emtpy \"deaths\" list. You should also exclude all records named \"State Unallocated\"."
   ]
  },
  {
   "cell_type": "raw",
   "metadata": {
    "case": 2,
    "key": "C12",
    "number": 12,
    "section": "answer"
   },
   "source": [
    "# Place your find query *only* after this line\n",
    "db.counties.find({name:{$ne: \"Statewide Unallocated\"}, $where: \"this.deaths == false\"}, {name:1})"
   ]
  },
  {
   "cell_type": "markdown",
   "metadata": {
    "case": 2,
    "key": "C13",
    "number": 13,
    "section": "problem"
   },
   "source": [
    "---\n",
    "**Problem #13:** What is the primary technique used to normalize tables?\n",
    "\n",
    "<p style=\"margin-left:30px\">\n",
    "A. Vertical decomposition<br>\n",
    "B. Horizontal decomposition<br>\n",
    "C. Table Merging<br>\n",
    "D. SQL Assertions<br>\n",
    "E. None of the above<br>\n",
    "</p>"
   ]
  },
  {
   "cell_type": "raw",
   "metadata": {
    "case": 2,
    "key": "C13",
    "number": 13,
    "section": "answer"
   },
   "source": [
    "Enter the letter for the single best answer from above:A\n",
    "This would be decomposition into normal forms."
   ]
  },
  {
   "cell_type": "markdown",
   "metadata": {
    "case": 0,
    "key": "C14",
    "number": 14,
    "section": "problem"
   },
   "source": [
    "---\n",
    "**Problem #14:** NoSQL databases tend to weaken many of the consistency guarantees that are common in traditional relational databases. What is gained with this tradeoff?"
   ]
  },
  {
   "cell_type": "raw",
   "metadata": {
    "case": 0,
    "key": "C14",
    "number": 14,
    "section": "answer"
   },
   "source": [
    "Enter your answer here: Availability and scalability."
   ]
  },
  {
   "cell_type": "markdown",
   "metadata": {
    "case": 0,
    "key": "C15",
    "number": 15,
    "section": "problem"
   },
   "source": [
    "---\n",
    "**Problem #15:** Consider the following Python program:\n",
    "\n",
    "```python\n",
    "import sqlite3\n",
    "db = sqlite3.connect(\"NCCOVID19.db\")\n",
    "db.row_factory = sqlite3.Row\n",
    "db.text_factory = str\n",
    "cursor = db.cursor()\n",
    "\n",
    "cursor.execute(\"\"\"SELECT C.name, D.fips, SUM(D.count) AS population\n",
    "                  FROM County C, Demographics D\n",
    "                  WHERE C.fips=D.fips\n",
    "                  GROUP BY D.fips\"\"\")\n",
    "\n",
    "for row in cursor.fetchall():\n",
    "    cursor.execute(\"\"\"SELECT SUM(cases) AS cases\n",
    "                      FROM Covid19\n",
    "                      WHERE fips = ?\"\"\", (row['fips'],))\n",
    "    print(row['name'], row['population'], cursor.fetchone()['cases'])\n",
    "```\n",
    "\n",
    "Notice that the first query's result is accessed using the cursor's \"fetchall( )\" method, whereas the second uses the cursor as an iterator. What is the reason for this?\n",
    "\n",
    "<p style=\"margin-left:30px\">\n",
    "A. Only one output row is expected from the first \"outer\" query<br>\n",
    "B. The use of \"fetchall()\" allows the cursor to be reused within the \"inner\" loop<br>\n",
    "C. Using either \"fetchall()\" or the cusor as an iterator is arbitrary in this case<br>\n",
    "D. The database schema dictates whether a table is traversed using \"fetchall()\" or using the cursor as an iterator.<br>\n",
    "E. None of the above\n",
    "</p>"
   ]
  },
  {
   "cell_type": "raw",
   "metadata": {
    "case": 0,
    "key": "C15",
    "number": 15,
    "section": "answer"
   },
   "source": [
    "Enter the letter for the single best answer from above: B"
   ]
  },
  {
   "cell_type": "markdown",
   "metadata": {
    "section": "setup"
   },
   "source": [
    "Save a copy of your Final examination notebook and then click [here to submit](http://csbio.unc.edu/mcmillan/index.py?run=Exam.upload) turn in your Examination"
   ]
  }
 ],
 "metadata": {
  "anaconda-cloud": {},
  "kernelspec": {
   "display_name": "Python 3",
   "language": "python",
   "name": "python3"
  },
  "language_info": {
   "codemirror_mode": {
    "name": "ipython",
    "version": 3
   },
   "file_extension": ".py",
   "mimetype": "text/x-python",
   "name": "python",
   "nbconvert_exporter": "python",
   "pygments_lexer": "ipython3",
   "version": "3.8.3"
  }
 },
 "nbformat": 4,
 "nbformat_minor": 1
}
