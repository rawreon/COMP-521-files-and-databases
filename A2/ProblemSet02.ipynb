{
 "cells": [
  {
   "cell_type": "markdown",
   "metadata": {
    "course": "Comp521F19",
    "problemset": 2,
    "section": "header"
   },
   "source": [
    "<div style=\"text-align: center;\">\n",
    "<h1>The University of North Carolina at Chapel Hill</h1>\n",
    "<h1>Comp 521 Files and Databases - Fall 2020</h1>\n",
    "<h1 style=\"font-size: 250%;\">Problem Set #2</h1>\n",
    "<h1 style=\"font-size: 200%;\">Version 1.1</h1>\n",
    "<h1>Issued Thursday 9/3/2020; Due Thursday 9/17/2020</h1>\n",
    "</div>\n",
    "\n",
    "**Homework Information:** The answer cells in this notebook contain metadata that enable it to be automatically parsed. Thus, you must enter your answers *only* into the cells provided. Do not delete any answer cell and/or add a new one to replace it. If you do so by accident, download a new copy of the problem set's notebook and transfer your answers into it. You can introduce new 'coding' cells in an effort to test approaches to problems, however, these introduced cells will not be considered when grading.\n",
    "\n",
    "Finally, some of the problems are probably too long to be done the night before the due date, so plan accordingly. Late problem sets will be accepted, but your lowest problem-set grade will be dropped. Feel free to get help from others, but the work you submit in should be your own."
   ]
  },
  {
   "cell_type": "code",
   "execution_count": 1,
   "metadata": {
    "section": "signature"
   },
   "outputs": [],
   "source": [
    "# Do not make any edits in this cell!\n",
    "class Student:\n",
    "    first = \"Wayne\"\n",
    "    last = \"Ji\"\n",
    "    onyen = \"rawreon\"\n",
    "    pid = \"730168641\""
   ]
  },
  {
   "cell_type": "code",
   "execution_count": 1,
   "metadata": {},
   "outputs": [],
   "source": [
    "import iSQL"
   ]
  },
  {
   "cell_type": "markdown",
   "metadata": {
    "section": "setup"
   },
   "source": [
    "In the following questions you are asked to write a single SQL query to find the requested results from a database derived from the demographic, COVID-19, and hospital data used in Problem set #1. The database has the following tables:\n",
    "<table style=\"border:none;\"><tbody>\n",
    "        <tr style=\"border:none;\">\n",
    "            <td style=\"padding:0px 20px;border:none;\" colspan=\"2\">\n",
    "            <table style=\"border-collapse: collapse; border: 1px solid black;\"><tbody>\n",
    "            <tr style=\"border-collapse: collapse; border: 1px solid black;\">\n",
    "                <th colspan=\"7\" style=\"text-align:center; background-color: skyblue;\">Demograpics</th></tr>\n",
    "            <tr style=\"border-collapse: collapse; border: 1px solid black;\">\n",
    "                <td style=\"border-collapse: collapse; border: 1px solid black;\"><u>fips</u></td>\n",
    "                <td style=\"border-collapse: collapse; border: 1px solid black;\"><u>year</u></td>\n",
    "                <td style=\"border-collapse: collapse; border: 1px solid black;\"><u>race</u></td>\n",
    "                <td style=\"border-collapse: collapse; border: 1px solid black;\"><u>sex</u></td>\n",
    "                <td style=\"border-collapse: collapse; border: 1px solid black;\"><u>agelo</u></td>\n",
    "                <td style=\"border-collapse: collapse; border: 1px solid black;\">agehi</td>\n",
    "                <td style=\"border-collapse: collapse; border: 1px solid black;\">count</td>\n",
    "            </tr>\n",
    "            </tbody></table>\n",
    "            </td>\n",
    "            <td style=\"padding:0px 20px;border:none;\" colspan=\"2\">\n",
    "            <table style=\"border-collapse: collapse; border: 1px solid black;\"><tbody>\n",
    "            <tr style=\"border-collapse: collapse; border: 1px solid black;\">\n",
    "                <th colspan=\"5\" style=\"text-align:center; background-color: skyblue;\">County</th></tr>\n",
    "            <tr style=\"border-collapse: collapse; border: 1px solid black;\">\n",
    "                <td style=\"border-collapse: collapse; border: 1px solid black;\"><u>fips</u></td>\n",
    "                <td style=\"border-collapse: collapse; border: 1px solid black;\">name</td>\n",
    "                <td style=\"border-collapse: collapse; border: 1px solid black;\">region</td>\n",
    "                <td style=\"border-collapse: collapse; border: 1px solid black;\">cog</td>\n",
    "                <td style=\"border-collapse: collapse; border: 1px solid black;\">msa</td>\n",
    "            </tr>\n",
    "            </tbody></table>\n",
    "            </td>\n",
    "            <td style=\"padding:0px 20px;border:none;\" colspan=\"2\">\n",
    "            <table style=\"border-collapse: collapse; border: 1px solid black;\"><tbody>\n",
    "            <tr style=\"border-collapse: collapse; border: 1px solid black;\">\n",
    "                <th colspan=\"4\" style=\"text-align:center; background-color: skyblue;\">Covid19</th></tr>\n",
    "            <tr style=\"border-collapse: collapse; border: 1px solid black;\">\n",
    "                <td style=\"border-collapse: collapse; border: 1px solid black;\"><u>fips</u></td>\n",
    "                <td style=\"border-collapse: collapse; border: 1px solid black;\"><u>date</u></td>\n",
    "                <td style=\"border-collapse: collapse; border: 1px solid black;\">cases</td>\n",
    "                <td style=\"border-collapse: collapse; border: 1px solid black;\">death</td>\n",
    "            </tr>\n",
    "            </tbody></table>\n",
    "            </td>\n",
    "        </tr>\n",
    "        <tr style=\"border:none;\">\n",
    "            <td colspan=\"6\" style=\"border:none;\">&nbsp;</td>\n",
    "        </tr>\n",
    "        <tr style=\"border:none;\">\n",
    "            <td style=\"padding:0px 20px;border:none;\"  colspan=\"3\">\n",
    "            <table style=\"border-collapse: collapse; border: 1px solid black;\"><tbody>\n",
    "            <tr style=\"border-collapse: collapse; border: 1px solid black;\">\n",
    "                <th colspan=\"8\" style=\"text-align:center; background-color: skyblue;\">Hospital</th></tr>\n",
    "            <tr style=\"border-collapse: collapse; border: 1px solid black;\">\n",
    "                <td style=\"border-collapse: collapse; border: 1px solid black;\"><u>hid</u></td>\n",
    "                <td style=\"border-collapse: collapse; border: 1px solid black;\">name</td>\n",
    "                <td style=\"border-collapse: collapse; border: 1px solid black;\">city</td>\n",
    "                <td style=\"border-collapse: collapse; border: 1px solid black;\">beds</td>\n",
    "                <td style=\"border-collapse: collapse; border: 1px solid black;\">icu</td>\n",
    "                <td style=\"border-collapse: collapse; border: 1px solid black;\">discharges</td>\n",
    "                <td style=\"border-collapse: collapse; border: 1px solid black;\">patientdays</td>\n",
    "                <td style=\"border-collapse: collapse; border: 1px solid black;\">revenue</td>\n",
    "            </tr>\n",
    "            </tbody></table>\n",
    "            </td>\n",
    "            <td style=\"padding:0px 20px;border:none;\" colspan=\"3\">\n",
    "            <table style=\"border-collapse: collapse; border: 1px solid black;\"><tbody>\n",
    "            <tr style=\"border-collapse: collapse; border: 1px solid black;\">\n",
    "                <th colspan=\"3\" style=\"text-align:center; background-color: skyblue;\">HospitalCounty</th></tr>\n",
    "            <tr style=\"border-collapse: collapse; border: 1px solid black;\">\n",
    "                <td style=\"border-collapse: collapse; border: 1px solid black;\"><u>hid</u></td>\n",
    "                <td style=\"border-collapse: collapse; border: 1px solid black;\"><u>fips</u></td>\n",
    "                <td style=\"border-collapse: collapse; border: 1px solid black;\">incounty</td>\n",
    "            </tr>\n",
    "            </tbody></table>\n",
    "            </td>\n",
    "        </tr>\n",
    "        </tbody></table>\n",
    "\n",
    "An <a href=\"http://csbio.unc.edu/mcmillan/Media/NCCOVID19.db\" download>example database</a> and the interactive SQL parser (<a href=\"http://csbio.unc.edu/mcmillan/Media/iSQL.py\" download>iSQL.py</a>) are provided for experimentation. You will need to copy iSQL.py into the same Jupyter Hub directory as the notebook for this problem set and invoke it as follows:\n",
    "\n",
    "    import iSQL\n",
    "    \n",
    "    query = iSQL.parser(\"NCCOVID19.db\")\n",
    "    \n",
    "\n",
    "Make sure that you copy your SQL query into the cell provided for your answer. Only that cell will be graded.\n",
    "***Warning***, if your query appears to give the correct result for the given database, that does not mean that it is correct. A correct query must give the requested result for *any* and *all* valid instances of the given database schema."
   ]
  },
  {
   "cell_type": "markdown",
   "metadata": {
    "case": 0,
    "key": "Bradshaw",
    "number": 1,
    "section": "problem"
   },
   "source": [
    "---\n",
    "**Problem 1:** Generate a table with the name, population, and region of all North Carolina counties in 2020."
   ]
  },
  {
   "cell_type": "raw",
   "metadata": {
    "number": 1,
    "section": "answer"
   },
   "source": [
    "SELECT C.name, C.region, SUM(D.count) \n",
    "FROM County C, Demographics D\n",
    "WHERE D.year = 2020 AND C.fips=D.fips\n",
    "GROUP BY D.fips"
   ]
  },
  {
   "cell_type": "markdown",
   "metadata": {
    "case": 1,
    "key": "Bradshaw",
    "number": 2,
    "section": "problem"
   },
   "source": [
    "---\n",
    "**Problem 2:** Generate a table with the name and number of hospital beds found in each North Carolina county."
   ]
  },
  {
   "cell_type": "raw",
   "metadata": {
    "number": 2,
    "section": "answer"
   },
   "source": [
    "SELECT C.name, SUM(H.beds) \n",
    "FROM County C, Hospital H, HospitalCounty HC\n",
    "WHERE C.fips = HC.fips and H.hid= HC.hid\n",
    "GROUP BY C.fips"
   ]
  },
  {
   "cell_type": "markdown",
   "metadata": {
    "case": 4,
    "key": "Bradshaw",
    "number": 3,
    "section": "problem"
   },
   "source": [
    "---\n",
    "**Problem 3:** . Generate a table with each North Carolina County and the date of its first confirmed COVID-19 case."
   ]
  },
  {
   "cell_type": "raw",
   "metadata": {
    "number": 3,
    "section": "answer"
   },
   "source": [
    "SELECT C.name, min(CO.date) \n",
    "FROM County C, Covid19 CO\n",
    "WHERE C.fips = CO.fips and CO.cases > 0\n",
    "GROUP BY C.fips"
   ]
  },
  {
   "cell_type": "markdown",
   "metadata": {
    "case": 5,
    "key": "Bradshaw",
    "number": 4,
    "section": "problem"
   },
   "source": [
    "---\n",
    "**Problem 4:** Generate a list of all Hospital names and North Carolina Counties in which there is more than one hospital. "
   ]
  },
  {
   "cell_type": "raw",
   "metadata": {
    "number": 4,
    "section": "answer"
   },
   "source": [
    "SELECT H.name, C.name\n",
    "FROM Hospital H, County C, HospitalCounty HC,\n",
    "\n",
    "(SELECT fips, count(fips)\n",
    "FROM HospitalCounty\n",
    "WHERE incounty = 1\n",
    "GROUP BY fips\n",
    "HAVING count(fips)>1) as T\n",
    "\n",
    "WHERE C.fips = HC.fips and H.hid= HC.hid and C.fips= T.fips and HC.incounty = 1"
   ]
  },
  {
   "cell_type": "markdown",
   "metadata": {
    "case": 7,
    "key": "Bradshaw",
    "number": 5,
    "section": "problem"
   },
   "source": [
    "---\n",
    "**Problem 5:** Generate a sorted list, from high to low, of North Carolina county ratios of residents in the age range of 25 to 45 to their total population in 2020. The output should include the county's name, 25-45 population, and ratio."
   ]
  },
  {
   "cell_type": "raw",
   "metadata": {
    "number": 5,
    "section": "answer"
   },
   "source": [
    "SELECT C.name, SUM(D.count), SUM(D.count)*1.0 / T.total_population AS ratio\n",
    "FROM Demographics D, County C,\n",
    "\n",
    "(SELECT D2.fips AS id, SUM(D2.count) AS total_population\n",
    "FROM Demographics D2\n",
    "WHERE D2.year=2020\n",
    "GROUP BY D2.fips) AS T\n",
    "\n",
    "WHERE D.agelo >= 25 and D.agehi <= 45 and D.year = 2020 \n",
    "and T.id=D.fips AND C.fips = D.fips\n",
    "GROUP BY D.fips\n",
    "\n",
    "ORDER BY ratio DESC"
   ]
  },
  {
   "cell_type": "markdown",
   "metadata": {
    "case": 9,
    "key": "Bradshaw",
    "number": 6,
    "section": "problem"
   },
   "source": [
    "---\n",
    "**Problem 6:** Generate a sorted list, from high to low, of the largest increase in North Carolina county ratios of residents in the age range of 25 to 45 to their total population in 2020 when compared to 2000. The output should include the county's name, 25-45 population ratio in 2020, and delta of ratio change."
   ]
  },
  {
   "cell_type": "raw",
   "metadata": {
    "number": 6,
    "section": "answer"
   },
   "source": [
    "SELECT C.name, T.age_population * 1.0/ SUM(D.count) AS ratio_in_2020, (T.age_population * 1.0/ SUM(D.count) ) - OLD.ratio as delta\n",
    "FROM Demographics D, County C,\n",
    "\n",
    "    (SELECT sum(D2.count) as age_population, C.fips, D2.year\n",
    "    FROM Demographics D2, County C \n",
    "    WHERE D2.fips = C.fips and D2.year = 2020 and D2.agelo >= 25 and D2.agehi <=45\n",
    "    GROUP BY D2.fips) as T,\n",
    "\n",
    "    (SELECT C.fips, T.age_population * 1.0/ SUM(D.count) AS ratio\n",
    "    FROM Demographics D, County C,\n",
    "\n",
    "        (SELECT sum(D2.count) as age_population, C.fips, D2.year\n",
    "        FROM Demographics D2, County C \n",
    "        WHERE D2.fips = C.fips and D2.year = 2000 and D2.agelo >= 25 and D2.agehi <=45\n",
    "        GROUP BY D2.fips) as T\n",
    "\n",
    "    WHERE D.fips = C.fips and D.year = 2000 and T.fips = D.fips\n",
    "    GROUP BY D.fips) as OLD\n",
    "\n",
    "\n",
    "WHERE D.fips = C.fips and D.year = 2020 and T.fips = D.fips and OLD.fips = D.fips\n",
    "GROUP BY D.fips\n",
    "ORDER BY delta DESC\n",
    "\n"
   ]
  },
  {
   "cell_type": "markdown",
   "metadata": {
    "case": 10,
    "key": "Bradshaw",
    "number": 7,
    "section": "problem"
   },
   "source": [
    "---\n",
    "**Problem 7:** For each county, find the single day with the most COVID-19 deaths reported. Generate a list of each county, date, and the number of deaths."
   ]
  },
  {
   "cell_type": "raw",
   "metadata": {
    "number": 7,
    "section": "answer"
   },
   "source": [
    "SELECT C.name, CO.date, max(CO.deaths)\n",
    "FROM County C, Covid19 CO\n",
    "WHERE C.fips = CO.fips\n",
    "GROUP BY CO.fips\n",
    "\n",
    "\n"
   ]
  },
  {
   "cell_type": "markdown",
   "metadata": {
    "case": 11,
    "key": "Bradshaw",
    "number": 8,
    "section": "problem"
   },
   "source": [
    "---\n",
    "**Problem 8:** On what single day were the most North Carolina COVID-19 deaths reported in the given reporting interval? For that day generate a list of each county, date, and the number of deaths. Include all counties, even those that did not report a death on the given date."
   ]
  },
  {
   "cell_type": "raw",
   "metadata": {
    "number": 8,
    "section": "answer"
   },
   "source": [
    "SELECT C.name, IFNULL(O.date,T2.date) as date, IFNULL(O.deaths,0) as deaths\n",
    "FROM County C,\n",
    " (SELECT date, sum(deaths) as sum\n",
    "                FROM Covid19\n",
    "                GROUP BY date\n",
    "                ORDER BY sum DESC\n",
    "                LIMIT 1) as T2\n",
    "LEFT JOIN (SELECT C.fips, CO.date as date, CO.deaths as deaths\n",
    "            FROM County C, Covid19 CO,\n",
    "                (SELECT date, sum(deaths) as sum\n",
    "                FROM Covid19\n",
    "                GROUP BY date\n",
    "                ORDER BY sum DESC\n",
    "                LIMIT 1) as T\n",
    "            WHERE C.fips = CO.fips and CO.date = T.date) as O\n",
    "ON O.fips = C.fips\n",
    "\n",
    "\n",
    "\n"
   ]
  },
  {
   "cell_type": "markdown",
   "metadata": {
    "case": 12,
    "key": "Bradshaw",
    "number": 9,
    "section": "problem"
   },
   "source": [
    "---\n",
    "**Problem 9:** Generate a list of North Carolina counties where white females of voting age (&ge; 18 years old) are the largest voting age demographic in *2020*. *In your report, provide multiple rows for each county of voting age residents broken down by race and sex. You should only include rows for countys in which the largest voting demographic is white and female.*"
   ]
  },
  {
   "cell_type": "raw",
   "metadata": {
    "number": 9,
    "section": "answer"
   },
   "source": [
    "SELECT C.name, D.race, D.sex, sum(D.count)\n",
    "FROM County C, Demographics D, \n",
    "(SELECT P.name, P.fips\n",
    "FROM \n",
    "    (Select T.fips,C.name, T.race, T.sex, max(T.pop) as max_pop\n",
    "    FROM County C, Demographics D, \n",
    "        (SELECT C.fips, D.race, D.sex, sum(D.count) as pop\n",
    "        FROM County C, Demographics D\n",
    "        WHERE C.fips = D.fips and D.year = 2020 and D.agelo >= 18\n",
    "        GROUP BY C.fips, D.race, D.sex\n",
    "        ORDER BY sum(D.count) desc) as T\n",
    "    WHERE C.fips = D.fips and C.fips = T.fips\n",
    "    Group By C.fips) as P\n",
    "WHERE P.race = 'white' and P.sex = 'female') as Z\n",
    "WHERE C.fips = D.fips and C.fips = Z.fips and D.agelo >= 18 and D.year = 2020\n",
    "Group By C.fips, D.race, D.sex"
   ]
  },
  {
   "cell_type": "markdown",
   "metadata": {
    "number": 10,
    "section": "problem"
   },
   "source": [
    "---\n",
    "**Problem 10:** What is the difference in total population between the age group from 45 to 54 in 2020 and the age group from 25 to 34 in *2000* for each county? Your output should be a list of counties and differences sorted from smallest (could be negative) to largest."
   ]
  },
  {
   "cell_type": "raw",
   "metadata": {
    "number": 10,
    "section": "answer"
   },
   "source": [
    "SELECT C.name, T.old_group - P.young_group as difference\n",
    "FROM County C,\n",
    "\n",
    "    (SELECT C2.fips, sum(D2.count) as old_group\n",
    "    FROM Demographics D2, County C2\n",
    "    WHERE D2.fips = C2.fips and D2.agelo >= 45 and D2.agehi <=54 and D2.year = 2020\n",
    "    GROUP BY C2.fips) as T,\n",
    "    \n",
    "    (SELECT C3.fips, sum(D3.count) as young_group\n",
    "    FROM Demographics D3, County C3\n",
    "    WHERE D3.fips = C3.fips and D3.agelo >= 25 and D3.agehi <=34 and D3.year = 2000\n",
    "    GROUP BY C3.fips) as P\n",
    "    \n",
    "WHERE C.fips = T.fips and C.fips = P.fips\n",
    "ORDER BY difference"
   ]
  },
  {
   "cell_type": "markdown",
   "metadata": {
    "case": 0,
    "key": "Bradshaw",
    "number": 11,
    "section": "problem"
   },
   "source": [
    "---\n",
    "**Problem 11:** What 10 counties have the highest percentage of residents over 65 years of age in *2020*? Provide both the county's name and percentage."
   ]
  },
  {
   "cell_type": "raw",
   "metadata": {
    "number": 11,
    "section": "answer"
   },
   "source": [
    "SELECT C.name,T.population_over_65 *100.0/ sum(D.count) as percentage_of_pop_over_65\n",
    "FROM Demographics D, County C,\n",
    "\n",
    "    (SELECT C2.fips, sum(D2.count) as population_over_65\n",
    "    FROM Demographics D2, County C2\n",
    "    WHERE D2.fips = C2.fips and D2.agelo >= 65 and D2.year = 2020\n",
    "    GROUP BY C2.fips) as T\n",
    "    \n",
    "WHERE D.fips = C.fips and C.fips = T.fips and D.year = 2020\n",
    "Group BY C.fips\n",
    "ORDER BY percentage_of_pop_over_65 DESC\n",
    "LIMIT 10"
   ]
  },
  {
   "cell_type": "markdown",
   "metadata": {
    "case": 1,
    "key": "Bradshaw",
    "number": 12,
    "section": "problem"
   },
   "source": [
    "---\n",
    "**Problem 12:** What counties in North Carolina do not have a hospital? Provide each county's name, population, and non-white population percentage in *2020*."
   ]
  },
  {
   "cell_type": "raw",
   "metadata": {
    "number": 12,
    "section": "answer"
   },
   "source": [
    "SELECT C.name, sum(D.count) as total_pop, IFNULL(T.non_white_pop,0) * 100.0 / sum(D.count) as non_white_percentage\n",
    "FROM County C, Demographics D,\n",
    "\n",
    "    (SELECT fips\n",
    "    FROM County C\n",
    "    WHERE C.fips NOT IN\n",
    "    (SELECT DISTINCT fips\n",
    "    FROM HospitalCounty\n",
    "    WHERE incounty = 1)) AS P\n",
    "\n",
    "LEFT JOIN\n",
    "\n",
    "    (SELECT fips, sum(count) as non_white_pop\n",
    "        FROM Demographics\n",
    "        WHERE race <> 'white' and year = 2020\n",
    "        GROUP BY fips) as T\n",
    "        \n",
    "ON C.fips = T.fips\n",
    "WHERE C.fips = P.fips and C.fips = D.fips and D.year = 2020\n",
    "GROUP BY C.fips"
   ]
  },
  {
   "cell_type": "markdown",
   "metadata": {
    "case": 2,
    "key": "Bradshaw",
    "number": 13,
    "section": "problem"
   },
   "source": [
    "---\n",
    "**Problem 13:**  Which counties had the highest ratio of COVID-19 cases to hospital-bed capacity? Do not consider counties that do not have a hospital and hopitals that have no beds. Output the county's name, its cases-to-bed ratio, and the day it occured. "
   ]
  },
  {
   "cell_type": "raw",
   "metadata": {
    "number": 13,
    "section": "answer"
   },
   "source": [
    "SELECT C.name, T.date, T.max*1.0/P.beds as cases_to_beds_ratio\n",
    "FROM County C, \n",
    "\n",
    "(SELECT C.fips, CO.date, max(CO.cases) as max\n",
    "FROM County C, Covid19 CO\n",
    "WHERE C.fips = CO.fips and CO.cases >= 1\n",
    "GROUP BY C.name) AS T,\n",
    "\n",
    "(SELECT C.fips, sum(H.beds) as beds\n",
    "FROM County C, Hospital H,  HospitalCounty HC\n",
    "WHERE C.fips = HC.fips and H.hid = HC.hid and H.beds > 0 and HC.incounty = 1\n",
    "GROUP BY C.fips) AS P\n",
    "\n",
    "WHERE C.fips = T.fips and C.fips = P.fips\n"
   ]
  },
  {
   "cell_type": "markdown",
   "metadata": {
    "case": 3,
    "key": "Bradshaw",
    "number": 14,
    "section": "problem"
   },
   "source": [
    "---\n",
    "**Problem 14:** Give a breakdown of COVID-19 cases, deaths, and hospitals by geographic region. For each of the geographic regions output the accumulated sum of COVID-19 cases and deaths since January 22, 2020, as well as the number of hospital beds in that region."
   ]
  },
  {
   "cell_type": "raw",
   "metadata": {
    "number": 14,
    "section": "answer"
   },
   "source": [
    "Select C.region, T.sum_cases, T.sum_deaths, P.beds\n",
    "FROM County C, \n",
    "\n",
    "    (SELECT C.region, sum(CO.cases) as sum_cases, sum(CO.deaths) as sum_deaths\n",
    "    FROM County C, Covid19 CO\n",
    "    WHERE C.fips = CO.fips and  CO.date > '2020-01-22'\n",
    "    GROUP BY C.region) as T,\n",
    "\n",
    "    (SELECT C.region, sum(H.beds) as beds\n",
    "    FROM County C, HospitalCounty HC, Hospital H\n",
    "    WHERE C.fips = HC.fips and H.hid = HC.hid and HC.incounty = 1\n",
    "    GROUP BY C.region) as P\n",
    "WHERE C.region = T.region and C.region = P.region\n",
    "GROUP BY C.region"
   ]
  },
  {
   "cell_type": "markdown",
   "metadata": {
    "number": 15,
    "section": "problem"
   },
   "source": [
    "---\n",
    "**Problem 15:** On your own, use the web to find the number of ICU beds in one of the hospitals in the given database that is currently reported to be 0 in our database. Write a SQL UPDATE command that sets this value to the one you discovered."
   ]
  },
  {
   "cell_type": "raw",
   "metadata": {
    "case": 5,
    "key": "common",
    "number": 15,
    "section": "answer"
   },
   "source": [
    "UPDATE Hospital\n",
    "SET beds = 197\n",
    "WHERE hid = 1080"
   ]
  },
  {
   "cell_type": "markdown",
   "metadata": {
    "case": 8,
    "key": "Bradshaw",
    "number": 16,
    "section": "problem"
   },
   "source": [
    "---\n",
    "**Problem 16:** Find one of the counties that has no hospital. On your own, use the web to find a nearby hospital in a bordering NC county. Write an INSERT command that inserts this hospital into the HospitalCounty table to indicate that this hospital serves a county where it is not located. "
   ]
  },
  {
   "cell_type": "raw",
   "metadata": {
    "number": 16,
    "section": "answer"
   },
   "source": [
    "INSERT INTO HospitalCounty (hid,fips,incounty)\n",
    "VALUES (1101,37127,0)"
   ]
  },
  {
   "cell_type": "markdown",
   "metadata": {
    "case": 13,
    "key": "Bradshaw",
    "number": 17,
    "section": "problem"
   },
   "source": [
    "---\n",
    "**Problem 17:** New confirmed COVID-19 cases and deaths are reported daily. On your own, use the web to find the number of confirmed cases and deaths for some county not provided in the database. Write an INSERT command to add this new county and date to the COVID-19 table."
   ]
  },
  {
   "cell_type": "raw",
   "metadata": {
    "number": 17,
    "section": "answer"
   },
   "source": [
    "INSERT INTO Covid19 (fips,date,cases,deaths)\n",
    "VALUES (37183,'2020-09-19', 1229, 28)"
   ]
  },
  {
   "cell_type": "markdown",
   "metadata": {
    "case": 15,
    "key": "Bradshaw",
    "number": 18,
    "section": "problem"
   },
   "source": [
    "---\n",
    "**Problem 18:** In the given database the numbers of COVID cases and deaths are not broken down according to sex. Assume that this data becomes available. Write *one or more* ALTER TABLE commands that include separate counts for confirmed cases and deaths according to sex, with the assumption that the total case counts includes both sexes as well as cases where the sex was not reported."
   ]
  },
  {
   "cell_type": "raw",
   "metadata": {
    "number": 18,
    "section": "answer"
   },
   "source": [
    "ALTER TABLE Covid19\n",
    "ADD m_cases integer(255);\n",
    "ALTER TABLE Covid19\n",
    "ADD f_cases integer(255);\n",
    "ALTER TABLE Covid19\n",
    "ADD non_reported_cases integer(255);\n",
    "ALTER TABLE Covid19\n",
    "ADD m_deaths integer(255);\n",
    "ALTER TABLE Covid19\n",
    "ADD f_deaths integer(255);\n"
   ]
  },
  {
   "cell_type": "markdown",
   "metadata": {
    "case": 18,
    "key": "Bradshaw",
    "number": 19,
    "section": "problem"
   },
   "source": [
    "---\n",
    "**Problem 19:** Specify a CHECK that enforces that the sex-specific case and death counts are always &le; to the total counts based on your modified table from problem 18. *(this was part of problem 18 in V1.0)*"
   ]
  },
  {
   "cell_type": "raw",
   "metadata": {
    "number": 19,
    "section": "answer"
   },
   "source": [
    "CHECK(cases>=m_cases and \n",
    "        cases >= f_cases and \n",
    "        cases >= not_reported_cases and \n",
    "        deaths >= m_deaths and \n",
    "        deaths >= f_cases)"
   ]
  },
  {
   "cell_type": "markdown",
   "metadata": {
    "case": 24,
    "key": "Bradshaw",
    "number": 20,
    "section": "problem"
   },
   "source": [
    "---\n",
    "**Problem 20:** Generate a list of all hosptials such that the county where they are located appears in their name. *(this was problem 19 in V1.0)*"
   ]
  },
  {
   "cell_type": "raw",
   "metadata": {
    "number": 20,
    "section": "answer"
   },
   "source": [
    "SELECT H.name\n",
    "FROM Hospital H, County C, HospitalCounty HC\n",
    "WHERE H.hid = HC.hid and C.fips = HC.fips and HC.incounty = 1 and H.name LIKE '%' || C.name || '%'\n"
   ]
  },
  {
   "cell_type": "markdown",
   "metadata": {},
   "source": [
    "Click [here to submit](http://csbio.unc.edu/mcmillan/index.py?run=PS.upload) your completed problem set.\n",
    "\n",
    "You can submit it as many times as you would like, but only the last submitted version will be graded. If the last submission was after the due date the final score will be reduced accordingly. "
   ]
  }
 ],
 "metadata": {
  "kernelspec": {
   "display_name": "Python 3",
   "language": "python",
   "name": "python3"
  },
  "language_info": {
   "codemirror_mode": {
    "name": "ipython",
    "version": 3
   },
   "file_extension": ".py",
   "mimetype": "text/x-python",
   "name": "python",
   "nbconvert_exporter": "python",
   "pygments_lexer": "ipython3",
   "version": "3.8.3"
  }
 },
 "nbformat": 4,
 "nbformat_minor": 1
}
