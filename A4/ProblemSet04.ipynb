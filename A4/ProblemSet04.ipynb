{
 "cells": [
  {
   "cell_type": "markdown",
   "metadata": {
    "course": "Comp521F19",
    "problemset": 4,
    "section": "header"
   },
   "source": [
    "<div style=\"text-align: center;\">\n",
    "<h1>The University of North Carolina at Chapel Hill</h1>\n",
    "<h1>Comp 521 Files and Databases - Fall 2019</h1>\n",
    "<h1 style=\"font-size: 250%;\">Problem Set #4</h1>\n",
    "<h1 style=\"font-size: 200%;\">Version 1.1</h1>\n",
    "<h1>Issued Tuesday 10/20/2020; Due Tuesday 11/03/2020</h1>\n",
    "</div>\n",
    "\n",
    "**Homework Information:** The answer cells in this notebook contain metadata that enable it to be automatically parsed. Thus, you must enter your answers *only* into the cells provided. Do not delete any answer cell and/or add a new one to replace it. If you do so by accident, download a new copy of the problem set's notebook and transfer your answers into it. You can introduce new 'coding' cells in an effort to test approaches to problems, however, these introduced cells will not be considered when grading.\n",
    "\n",
    "Finally, some of the problems are probably too long to be done the night before the due date, so plan accordingly. Late problem sets will be accepted, but your lowest problem-set grade will be dropped. Feel free to get help from others, but the work you submit in should be your own."
   ]
  },
  {
   "cell_type": "code",
   "execution_count": 1,
   "metadata": {
    "collapsed": true,
    "section": "signature"
   },
   "outputs": [],
   "source": [
    "# Fill in and verify the following \n",
    "class Student:\n",
    "    first = \"Wayne\"\n",
    "    last = \"Ji\"\n",
    "    onyen = \"rawreon\"\n",
    "    pid = \"730168641\""
   ]
  },
  {
   "cell_type": "markdown",
   "metadata": {
    "section": "setup"
   },
   "source": [
    "By default, SQLlite only builds ISAM-tree index. In the following questions,\n",
    "you will need to write Python3 programs to simulate a hash index on a *(year, fips)* search key for the *Demographics*\n",
    "table in the <a href=\"http://csbio.unc.edu/mcmillan/Media/NCCOVID19.db\" download>NCCOVID19.db</a> database. \n",
    "A function to get the hash-bucket pageid for records in *Demographics*\n",
    "table is provided below:\n",
    "\n",
    "<pre>\n",
    "    def getPageId(year, fips):\n",
    "        return int((fips + 7*year) % 512)\n",
    "</pre>\n",
    "\n",
    "Suppose each *(year,fips,pageId)* tuple in the hash index uses 10 bytes and a single page stores at most 400\n",
    "*(year,fips,pageId)* pairs."
   ]
  },
  {
   "cell_type": "markdown",
   "metadata": {
    "number": 1,
    "section": "problem"
   },
   "source": [
    "---\n",
    "**Problem 1:** How many buckets will overflow? What is the average number of *(year,fips,pageID)* tuples in a bucket? Suppose a page can hold at most 128 *Demographics* records, on average how many pages you need to fetch to select all *Demographics* of a given county in a given year (you should assume that the county and year are valid entries for the given database)?"
   ]
  },
  {
   "cell_type": "raw",
   "metadata": {
    "number": 1,
    "section": "answer"
   },
   "source": [
    "Overflow Buckets: 252\n",
    "Average number of search-key-page-id records per bucket: 553.00390625\n",
    "Average number of Demographics page accesses per year-fips query? 2.588588"
   ]
  },
  {
   "cell_type": "markdown",
   "metadata": {
    "number": 2,
    "section": "problem"
   },
   "source": [
    "---\n",
    "**Problem 2:** Assuming that the *Demographics* table occupies 2240 pages. How many passes are required to sort the table by (*year*, *fips*) if 20 buffer-pages are allocated for the sort? What would be the minimum number of buffer pages required to preform the same sort in 2-passes?"
   ]
  },
  {
   "cell_type": "raw",
   "metadata": {
    "number": 2,
    "section": "answer"
   },
   "source": [
    "Number of passes using 20 buffer-pages: 3\n",
    "Number of buffer-pages required to sort in 2 passes: 48"
   ]
  },
  {
   "cell_type": "markdown",
   "metadata": {
    "section": "setup"
   },
   "source": [
    "In the following problems consider evaluation of the following query:\n",
    "\n",
    "<code>\n",
    "    SELECT D.year, C.name, SUM(count) as population\n",
    "    FROM County C, Demographics D\n",
    "    WHERE C.fips=D.fips\n",
    "    GROUP BY D.year, D.fips\n",
    "</code>\n",
    "\n",
    "Assume the *County* table occupies 3 pages and has 100 records."
   ]
  },
  {
   "cell_type": "markdown",
   "metadata": {
    "number": 3,
    "section": "problem"
   },
   "source": [
    "---\n",
    "**Problem 3:** Assume that an index-nested loop is used to evaluate the query as described in the following pseudo code:\n",
    "\n",
    "<code>\n",
    "1)    for each page of County:\n",
    "2)        for each county record in page:\n",
    "3)            for each year in demographics records:\n",
    "4)                population = 0\n",
    "4)                Use year-fips hash index from Problem 1 to find the hash-bucket with relevant Demographics records\n",
    "5)                Load pages in hash-bucket chain in buffer pages\n",
    "6)                Sort relevant (year,fips,pageID) tuples by pageID\n",
    "7)                Read each page with distinct pageID\n",
    "8)                Scan page for matching year and fips values and add count to population\n",
    "9)                Output (Demographics.year, County.name, population)\n",
    "</code>\n",
    "\n",
    "Which numbered lines from the given pseudo code require loading pages from disk? You can assume that demographic records are approximately clustered by year and fips, and that the pageIDs for *a group of year-fips records will span 6 pages* on average. Estimate the number pages read to perform this query. (Note: I am only asking for the number of pages *read*. The number of pages *written* is data dependent.)"
   ]
  },
  {
   "cell_type": "raw",
   "metadata": {
    "number": 3,
    "section": "answer"
   },
   "source": [
    "    A list of line numbers that load pages: 1, 5, 7\n",
    "How many page reads: 18039.9"
   ]
  },
  {
   "cell_type": "code",
   "execution_count": 71,
   "metadata": {
    "scrolled": true
   },
   "outputs": [
    {
     "data": {
      "text/plain": [
       "18039.9"
      ]
     },
     "execution_count": 71,
     "metadata": {},
     "output_type": "execute_result"
    }
   ],
   "source": [
    "3 + 100*21*(2.589 + 6)"
   ]
  },
  {
   "cell_type": "markdown",
   "metadata": {
    "number": 4,
    "section": "problem"
   },
   "source": [
    "**Problem 4:**  Assume that the Sort-Merge loop decribed in problem 2 using 20 buffer pages is used to evaluate the query as described in the following pseudo code:\n",
    "\n",
    "<code>\n",
    "1)    External Sort Demographics Table by (year, fips)\n",
    "2)    Read County Table as C and sort in memory by fips\n",
    "3)    previousYear = 0\n",
    "4)    for D in sorted demographics records:\n",
    "5)        if (D.year > previousYear):\n",
    "6)            previousYear = D.year\n",
    "7)            fips = C.fips\n",
    "8)            population = 0\n",
    "10)       while (D.fips > fips):\n",
    "11)           Output (D.year, C.name, population)\n",
    "12)           C.next()\n",
    "12)           fips = C.fips\n",
    "13)           population = 0\n",
    "14)       population += D.count\n",
    "15)   Output (D.year, C.name, population)\n",
    "</code>\n",
    "\n",
    "Which numbered lines from the given pseudo code require loading pages from disk? Estimate the number pages read to perform this query. (Note: I am only asking for the number of pages *read*. The number of pages *written* is data dependent.)"
   ]
  },
  {
   "cell_type": "raw",
   "metadata": {
    "number": 4,
    "section": "answer"
   },
   "source": [
    "A list of line numbers that load pages: 1,2\n",
    "How many page reads: 8963"
   ]
  },
  {
   "cell_type": "code",
   "execution_count": 68,
   "metadata": {},
   "outputs": [
    {
     "data": {
      "text/plain": [
       "8963"
      ]
     },
     "execution_count": 68,
     "metadata": {},
     "output_type": "execute_result"
    }
   ],
   "source": [
    "3 * 2240 + 3 + 2240"
   ]
  },
  {
   "cell_type": "markdown",
   "metadata": {
    "number": 5,
    "section": "problem"
   },
   "source": [
    "---\n",
    "**Problem 5:** Consider the following Functional Dependancies (FDs) that govern the Demographics table whose attributes *(fips, year, race, sex, agelo, agehi, count)* map to the following variable names FYRSLHC: \n",
    "\n",
    "\n",
    "<div style=\"margin:20px 250px\">\n",
    "FYRSL &rarr; FYRSLHC<br>H &rarr; L.\n",
    "</div>\n",
    "\n",
    "Based on the given FDs is this table is in 3NF? Explain why or why not."
   ]
  },
  {
   "cell_type": "raw",
   "metadata": {
    "number": 5,
    "section": "answer"
   },
   "source": [
    "Yes the given FD is in 3NF. FYRSL is the primary key, and L is part of the primary key, and so this table is in 3NF."
   ]
  },
  {
   "cell_type": "code",
   "execution_count": 75,
   "metadata": {
    "scrolled": true
   },
   "outputs": [
    {
     "data": {
      "application/vnd.jupyter.widget-view+json": {
       "model_id": "fc1d00a70a7b474fbf2fc85af81a661a",
       "version_major": 2,
       "version_minor": 0
      },
      "text/plain": [
       "VBox(children=(Textarea(value='', description='SQL:', layout=Layout(height='auto', width='600px')), HBox(child…"
      ]
     },
     "metadata": {},
     "output_type": "display_data"
    }
   ],
   "source": [
    "import iSQL\n",
    "\n",
    "query = iSQL.parser(\"NCCOVID19.db\")\n"
   ]
  },
  {
   "cell_type": "markdown",
   "metadata": {
    "number": 6,
    "section": "problem"
   },
   "source": [
    "---\n",
    "**Problem 6:** Next, based on the FDs in **Problem #5** propose a decomposition of Demographics that achieves BCNF. Express this decompostion as two CREATE TABLE commands with primary key declarations."
   ]
  },
  {
   "cell_type": "raw",
   "metadata": {
    "number": 6,
    "section": "answer"
   },
   "source": [
    "CREATE TABLE Demographics(\n",
    "    fips INTEGER,\n",
    "    year INTEGER,\n",
    "    race TEXT,\n",
    "    sex TEXT,\n",
    "    agehi INTEGER,\n",
    "    count INTEGER,\n",
    "    PRIMARY KEY (fips,year,race,sex,agehi),\n",
    "    FOREIGN KEY (agehi) REFERENCES Age_Ranges (agehi),\n",
    "    FOREIGN KEY(fips) REFERENCES County(fips)\n",
    ");\n",
    "\n",
    "CREATE TABLE Age_Ranges(\n",
    "    agelo INTEGER,\n",
    "    agehi INTEGER,\n",
    "    PRIMARY KEY (agehi)\n",
    ")"
   ]
  },
  {
   "cell_type": "markdown",
   "metadata": {
    "number": 7,
    "section": "problem"
   },
   "source": [
    "---\n",
    "**Problem 7:** Given your decomposition of Demographics from **Problem 6** how many rows will be in each resulting table, and is a natural join of these two tables lossless?"
   ]
  },
  {
   "cell_type": "raw",
   "metadata": {
    "number": 7,
    "section": "answer"
   },
   "source": [
    "Rows in two tables: Demographics has 283138 rows, Age_Ranges has 19 rows\n",
    "Is a natural join of these tables lossless: Yes, making tables in BCNF will always be lossless."
   ]
  },
  {
   "cell_type": "markdown",
   "metadata": {
    "number": 8,
    "section": "problem"
   },
   "source": [
    "---\n",
    "**Problem 8:** Enter *only* \"yes\" below, replacing the comment as instructed, if you would like 16 points. "
   ]
  },
  {
   "cell_type": "raw",
   "metadata": {
    "number": 8,
    "section": "answer"
   },
   "source": [
    "yes"
   ]
  },
  {
   "cell_type": "markdown",
   "metadata": {},
   "source": [
    "Click [here to submit](http://csbio.unc.edu/mcmillan/index.py?run=PS.upload) your completed problem set.\n",
    "\n",
    "You can submit it as many times as you would like, but only the last submitted version will be graded. If the last submission was after the due date the final score will be reduced accordingly. "
   ]
  }
 ],
 "metadata": {
  "anaconda-cloud": {},
  "kernelspec": {
   "display_name": "Python 3",
   "language": "python",
   "name": "python3"
  },
  "language_info": {
   "codemirror_mode": {
    "name": "ipython",
    "version": 3
   },
   "file_extension": ".py",
   "mimetype": "text/x-python",
   "name": "python",
   "nbconvert_exporter": "python",
   "pygments_lexer": "ipython3",
   "version": "3.8.3"
  }
 },
 "nbformat": 4,
 "nbformat_minor": 1
}
