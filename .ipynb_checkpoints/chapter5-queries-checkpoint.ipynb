{
 "cells": [
  {
   "cell_type": "markdown",
   "metadata": {
    "slideshow": {
     "slide_type": "slide"
    }
   },
   "source": [
    "# Chapter 5. SQL Queries"
   ]
  },
  {
   "cell_type": "markdown",
   "metadata": {
    "slideshow": {
     "slide_type": "slide"
    }
   },
   "source": [
    "## Basic SQL Query\n",
    "\n",
    "**select** [**distinct**] _target-list_  \n",
    "**from** _relation-list_  \n",
    "**where** _qualification_\n",
    "\n",
    "_target-list_: A list of attributes of relations in _relation-list_\n",
    "\n",
    "_relation-list_: A list of relation names (possibly with a _range-variable_ after each name)\n",
    "\n",
    "_qualification_: Comparisons such as Attr = Const or Attr1 = Attr2 combined with **and**, **or**, **not**.\n",
    "\n",
    "**distinct**: is an optional keyword indicating that the answer should not contain duplicates. Default is that duplicates are _not_ eliminated.\n",
    "    "
   ]
  },
  {
   "cell_type": "markdown",
   "metadata": {
    "slideshow": {
     "slide_type": "slide"
    }
   },
   "source": [
    "## Conceptual Evaluation Strategy\n",
    "\n",
    "Semantics of an SQL query defined in terms of the following conceptual evaluation strategy:\n",
    "\n",
    "1. Compute the cross-product ($\\times$) of the _relation-list_.\n",
    "2. Select ($\\sigma$) tuples that satisfy _qualifications_.\n",
    "3. Project ($\\pi$) attributes that are in the _target-list_.\n",
    "4. If **distinct** is specified, eliminate duplicate rows.\n",
    "\n",
    "This strategy is probably the least efficient way to compute a query but the optimizer should find more efficient ways to compute the same answers."
   ]
  },
  {
   "cell_type": "markdown",
   "metadata": {
    "slideshow": {
     "slide_type": "slide"
    }
   },
   "source": [
    "## Setup for live examples\n",
    "\n",
    "This document is an Jupyter Notebook (or a static HTML page generated from it). This way we can try live examples in class and you can play with them afterward.\n",
    "\n",
    "First we'll do some setup of the python environment."
   ]
  },
  {
   "cell_type": "code",
   "execution_count": null,
   "metadata": {},
   "outputs": [],
   "source": [
    "from sqlite3 import connect\n"
   ]
  },
  {
   "cell_type": "markdown",
   "metadata": {},
   "source": [
    "Create the db in memory for playtime, we'd use a file to get persistence."
   ]
  },
  {
   "cell_type": "code",
   "execution_count": null,
   "metadata": {},
   "outputs": [],
   "source": [
    "conn = connect(\":memory:\")\n",
    "cursor = conn.cursor()"
   ]
  },
  {
   "cell_type": "markdown",
   "metadata": {},
   "source": [
    "Construct some tables"
   ]
  },
  {
   "cell_type": "code",
   "execution_count": null,
   "metadata": {},
   "outputs": [],
   "source": [
    "cursor.execute('''drop table if exists Sailors''')\n",
    "cursor.execute(\"\"\"\n",
    "    create table Sailors \n",
    "        (sid integer primary key, \n",
    "         sname text, \n",
    "         rating integer, \n",
    "         age real)\n",
    "\"\"\")\n",
    "sailors = [(22, 'Dustin', 7, 45.0),\n",
    "           (29, 'Brutus', 1, 33.0),\n",
    "           (31, 'Lubber', 8, 55.5),\n",
    "           (32, 'Andy', 8, 25.5),\n",
    "           (58, 'Rusty', 10, 35.0),\n",
    "           (64, 'Horatio', 7, 35.0),\n",
    "           (71, 'Zorba', 10, 16.0),\n",
    "           (74, 'Horatio', 9, 35.0),\n",
    "           (85, 'Art', 3, 25.5),\n",
    "           (95, 'Bob', 3, 63.5)]\n",
    "for sailor in sailors:\n",
    "    cursor.execute(\"insert into Sailors values (?, ?, ?, ?)\", sailor)\n"
   ]
  },
  {
   "cell_type": "code",
   "execution_count": null,
   "metadata": {},
   "outputs": [],
   "source": [
    "cursor.execute(\"\"\"\n",
    "create table Boats\n",
    "    (bid integer primary key, \n",
    "     bname text, \n",
    "     color text)\n",
    "\"\"\")\n",
    "boats = [(101, \"Interlake\", \"blue\"),\n",
    "         (102, \"Interlake\", \"red\"),\n",
    "         (103, \"Clipper\", \"green\"),\n",
    "         (104, \"Marine\", \"red\")]\n",
    "for boat in boats:\n",
    "    cursor.execute(\"insert into Boats values (?, ?, ?)\", boat)\n"
   ]
  },
  {
   "cell_type": "code",
   "execution_count": null,
   "metadata": {},
   "outputs": [],
   "source": [
    "cursor.execute(\"\"\"\n",
    "create table Reserves \n",
    "    (sid integer, \n",
    "     bid integer, \n",
    "     day text, \n",
    "     primary key (sid, bid, day) \n",
    "     foreign key (sid) references Sailors\n",
    "     foreign key (bid) references Boats)\n",
    "\"\"\")\n",
    "reserves = [(22, 101, '10/10/98'),\n",
    "            (22, 102, '10/10/98'),\n",
    "            (22, 103, '10/8/98'),\n",
    "            (22, 104, '10/7/98'),\n",
    "            (31, 102, '11/10/98'),\n",
    "            (31, 103, '11/6/98'),\n",
    "            (64, 101, '9/5/98'),\n",
    "            (64, 102, '9/8/98'),\n",
    "            (74, 103, '9/8/98')]\n",
    "for reserve in reserves:\n",
    "    cursor.execute(\"insert into Reserves values(?, ?, ?)\", reserve)\n"
   ]
  },
  {
   "cell_type": "markdown",
   "metadata": {},
   "source": [
    "## Example Conceptual Evaluation Strategy\n",
    "\n",
    "Now let's examine the conceptual evaluation strategy applied to this query:\n",
    "\n",
    "    select S.sname\n",
    "    from Sailors S, Reserves R\n",
    "    where  S.sid=R.sid and R.bid=103\n",
    "\n",
    "First do the cross-product"
   ]
  },
  {
   "cell_type": "code",
   "execution_count": null,
   "metadata": {},
   "outputs": [],
   "source": [
    "cursor.execute(\"\"\"\n",
    "select * from Sailors S, Reserves R\n",
    "\"\"\")\n",
    "for row in cursor:\n",
    "    print(row)"
   ]
  },
  {
   "cell_type": "markdown",
   "metadata": {},
   "source": [
    "Then select the rows that satisfy the qualifications."
   ]
  },
  {
   "cell_type": "code",
   "execution_count": null,
   "metadata": {},
   "outputs": [],
   "source": [
    "cursor.execute(\"\"\"\n",
    "select * \n",
    "    from Sailors S, Reserves R\n",
    "    where S.sid=R.sid and R.bid=103\n",
    "\"\"\")\n",
    "for row in cursor:\n",
    "    print(row)"
   ]
  },
  {
   "cell_type": "markdown",
   "metadata": {},
   "source": [
    "Then project attributes that are in the target list."
   ]
  },
  {
   "cell_type": "code",
   "execution_count": null,
   "metadata": {},
   "outputs": [],
   "source": [
    "cursor.execute(\"\"\"\n",
    "select S.sname from Sailors S, Reserves R\n",
    "    where S.sid=R.sid and R.bid=103\n",
    "\"\"\")\n",
    "for row in cursor:\n",
    "    print(row)"
   ]
  },
  {
   "cell_type": "markdown",
   "metadata": {},
   "source": [
    "## Find sailors who've reserved at least one boat."
   ]
  },
  {
   "cell_type": "code",
   "execution_count": null,
   "metadata": {},
   "outputs": [],
   "source": [
    "cursor.execute(\"\"\"\n",
    "select distinct S.sid \n",
    "    from Sailors S, Reserves R\n",
    "    where S.sid=R.sid\n",
    "\"\"\")\n",
    "for row in cursor:\n",
    "    print(row)"
   ]
  },
  {
   "cell_type": "markdown",
   "metadata": {},
   "source": [
    "would removing the **distinct** make a difference?"
   ]
  },
  {
   "cell_type": "code",
   "execution_count": null,
   "metadata": {},
   "outputs": [],
   "source": [
    "cursor.execute(\"\"\"\n",
    "select S.sid \n",
    "    from Sailors S, Reserves R\n",
    "    where S.sid=R.sid\"\"\")\n",
    "for row in cursor:\n",
    "    print(row)"
   ]
  },
  {
   "cell_type": "markdown",
   "metadata": {},
   "source": [
    "Why are there repeated records without distinct?"
   ]
  },
  {
   "cell_type": "markdown",
   "metadata": {},
   "source": [
    "## Expressions and Strings"
   ]
  },
  {
   "cell_type": "code",
   "execution_count": null,
   "metadata": {},
   "outputs": [],
   "source": [
    "cursor.execute(\"\"\"\n",
    "select S.age,S.age-5 as age1, 2*S.age as age2\n",
    "    from Sailors S\n",
    "    where S.sname like '_us%'\n",
    "\"\"\")\n",
    "for row in cursor:\n",
    "    print(row)"
   ]
  },
  {
   "cell_type": "markdown",
   "metadata": {},
   "source": [
    "Illustrates use of arithmetic expressions and string pattern matching: _Find triples (of ages of sailors and two fields defined by expressions) for sailors whose names begin with any letter followed by 'us'._\n",
    "\n",
    "**as** renames fields in result. (Some SQL implementations allow the use of ‘newalias=expr‘ as well)\n",
    "\n",
    "**like** is used for string matching. “_” stands for any one character and “%” stands for 0 or more arbitrary characters.  \n"
   ]
  },
  {
   "cell_type": "markdown",
   "metadata": {},
   "source": [
    "## Find sid's of sailors who've reserved a red or a green boat\n",
    "Solution 1: Use _or_ in the **where** clause."
   ]
  },
  {
   "cell_type": "code",
   "execution_count": null,
   "metadata": {},
   "outputs": [],
   "source": [
    "cursor.execute(\"\"\"\n",
    "select distinct S.sid\n",
    "from Sailors S, Boats B, Reserves R\n",
    "where S.sid=R.sid and R.bid=B.bid and\n",
    "      (B.color='red' or B.color='green')\n",
    "\"\"\")\n",
    "for row in cursor:\n",
    "    print(row)"
   ]
  },
  {
   "cell_type": "markdown",
   "metadata": {},
   "source": [
    "Solution 2: Use Union."
   ]
  },
  {
   "cell_type": "code",
   "execution_count": null,
   "metadata": {},
   "outputs": [],
   "source": [
    "cursor.execute(\"\"\"\n",
    "select S.sid \n",
    "    from Sailors S, Boats B, Reserves R\n",
    "    where S.sid=R.sid and R.bid=B.bid and B.color='red'\n",
    "    \n",
    "union\n",
    "\n",
    "select S.sid \n",
    "    from Sailors S, Boats B, Reserves R\n",
    "    where S.sid=R.sid and R.bid=B.bid and B.color='green'\n",
    "\"\"\")\n",
    "for row in cursor:\n",
    "    print(row)"
   ]
  },
  {
   "cell_type": "markdown",
   "metadata": {},
   "source": [
    "What do we get if we replace union with except?"
   ]
  },
  {
   "cell_type": "code",
   "execution_count": null,
   "metadata": {},
   "outputs": [],
   "source": [
    "cursor.execute(\"\"\"\n",
    "select S.sid \n",
    "    from Sailors S, Boats B, Reserves R\n",
    "    where S.sid=R.sid and R.bid=B.bid and B.color='red'\n",
    "    \n",
    "except\n",
    "\n",
    "select S.sid \n",
    "    from Sailors S, Boats B, Reserves R\n",
    "    where S.sid=R.sid and R.bid=B.bid and B.color='green'\n",
    "\"\"\")\n",
    "for row in cursor:\n",
    "    print(row)"
   ]
  },
  {
   "cell_type": "markdown",
   "metadata": {},
   "source": [
    "Let's break that down into the clauses.\n",
    "\n",
    "First the red clause."
   ]
  },
  {
   "cell_type": "code",
   "execution_count": null,
   "metadata": {},
   "outputs": [],
   "source": [
    "cursor.execute(\"\"\"\n",
    "select S.sid \n",
    "    from Sailors S, Boats B, Reserves R\n",
    "    where S.sid=R.sid and R.bid=B.bid and B.color='red'\n",
    "\"\"\")\n",
    "for row in cursor:\n",
    "    print(row)"
   ]
  },
  {
   "cell_type": "markdown",
   "metadata": {},
   "source": [
    "Then the green clause."
   ]
  },
  {
   "cell_type": "code",
   "execution_count": null,
   "metadata": {},
   "outputs": [],
   "source": [
    "cursor.execute(\"\"\"\n",
    "select S.sid \n",
    "    from Sailors S, Boats B, Reserves R\n",
    "    where S.sid=R.sid and R.bid=B.bid and B.color='green'\n",
    "\"\"\")\n",
    "for row in cursor:\n",
    "    print(row)"
   ]
  },
  {
   "cell_type": "markdown",
   "metadata": {},
   "source": [
    "## Find sid's of sailors who've reserved a red and a green boat\n",
    "Attempt 1: Simply replace the **or** with **and**."
   ]
  },
  {
   "cell_type": "code",
   "execution_count": null,
   "metadata": {},
   "outputs": [],
   "source": [
    "cursor.execute(\"\"\"\n",
    "select S.sid \n",
    "    from Sailors S, Boats B, Reserves R\n",
    "    where S.sid=R.sid and R.bid=B.bid and\n",
    "    (B.color='red' and B.color='green')\"\"\")\n",
    "for row in cursor:\n",
    "    print(row)"
   ]
  },
  {
   "cell_type": "markdown",
   "metadata": {},
   "source": [
    "Why no result above? \n",
    "\n",
    "Solution 1: Multiple instancing."
   ]
  },
  {
   "cell_type": "code",
   "execution_count": null,
   "metadata": {},
   "outputs": [],
   "source": [
    "cursor.execute(\"\"\"\n",
    "select distinct S.sid\n",
    "    from Sailors S, Boats B1, Reserves R1, Boats B2, Reserves R2\n",
    "    where S.sid=R1.sid and R1.bid=B1.bid and B1.color='red' and\n",
    "          S.sid=R2.sid and R2.bid=B2.bid and B2.color='green'\n",
    "\"\"\")\n",
    "for row in cursor:\n",
    "    print(row)"
   ]
  },
  {
   "cell_type": "markdown",
   "metadata": {},
   "source": [
    "Solution 2: Intersect. Note its symmetry with the union version above."
   ]
  },
  {
   "cell_type": "code",
   "execution_count": null,
   "metadata": {},
   "outputs": [],
   "source": [
    "cursor.execute(\"\"\"\n",
    "select S.sid\n",
    "    from Sailors S, Boats B, Reserves R\n",
    "    where S.sid=R.sid and R.bid=B.bid and B.color='red'\n",
    "    \n",
    "intersect\n",
    "\n",
    "select S.sid\n",
    "    from Sailors S, Boats B, Reserves R\n",
    "    where S.sid=R.sid and R.bid=B.bid and B.color='green'\n",
    "\"\"\")\n",
    "for row in cursor:\n",
    "    print(row)"
   ]
  },
  {
   "cell_type": "markdown",
   "metadata": {},
   "source": [
    "## Nested Queries\n",
    "Find names of sailors who've never reserved boat 103"
   ]
  },
  {
   "cell_type": "code",
   "execution_count": null,
   "metadata": {},
   "outputs": [],
   "source": [
    "cursor.execute(\"\"\"\n",
    "select S.sid, S.sname\n",
    "    from Sailors S\n",
    "    where S.sid not in \n",
    "        (select R.sid \n",
    "         from Reserves R \n",
    "         where R.bid=103)\n",
    "\"\"\")\n",
    "for row in cursor:\n",
    "    print(row)"
   ]
  },
  {
   "cell_type": "markdown",
   "metadata": {},
   "source": [
    "*A very powerful feature of SQL*: a WHERE clause can itself contain a query!\n",
    "To find sailors who've reserved boat 103 use IN.\n",
    "To understand the semantics of nested queries, think of a _nested loops_ evaluation: For each Sailors tuple, check the qualification by computing the subquery."
   ]
  },
  {
   "cell_type": "markdown",
   "metadata": {},
   "source": [
    "## Nested Queries with Correlation\n",
    "Find names of sailors who've reserved any boat"
   ]
  },
  {
   "cell_type": "code",
   "execution_count": null,
   "metadata": {},
   "outputs": [],
   "source": [
    "cursor.execute(\"\"\"\n",
    "select S.sname\n",
    "    from Sailors S\n",
    "    where exists (select *\n",
    "                  from Reserves R\n",
    "                  where S.sid=R.sid)\n",
    "\"\"\")\n",
    "for row in cursor:\n",
    "    print(row)"
   ]
  },
  {
   "cell_type": "markdown",
   "metadata": {},
   "source": [
    "**Exists** is another set comparison operator, like **in**. This example illustrates why, in general, a subquery must be re-evaluated for each Sailors tuple."
   ]
  },
  {
   "cell_type": "markdown",
   "metadata": {},
   "source": [
    "## Rewriting intersect queries using IN\n",
    "\n",
    "Find sid's of sailors who've reserved both a red and a green boat."
   ]
  },
  {
   "cell_type": "code",
   "execution_count": null,
   "metadata": {},
   "outputs": [],
   "source": [
    "cursor.execute(\"\"\"\n",
    "select distinct S.sid\n",
    "from  Sailors S, Boats B, Reserves R\n",
    "where  S.sid=R.sid and R.bid=B.bid and B.color='red'\n",
    "    and S.sid in \n",
    "        (select S2.sid\n",
    "            from Sailors S2, Boats B2, Reserves R2\n",
    "            where S2.sid=R2.sid and R2.bid=B2.bid\n",
    "                  and B2.color='green')\n",
    "\"\"\")\n",
    "for row in cursor:\n",
    "    print(row)"
   ]
  },
  {
   "cell_type": "markdown",
   "metadata": {},
   "source": [
    "Similarly, **except** queries re-written using **not in**.\n",
    "\n",
    "To find _snames_ (not sid's) of Sailors who've reserved both red and green boats, just replace S.sid by S.sname in **select** clause. What about the **intersect** query above? Would that strategy work there?"
   ]
  },
  {
   "cell_type": "markdown",
   "metadata": {},
   "source": [
    "## Division in SQL\n",
    "\n",
    "Find sailors who've reserved all boats."
   ]
  },
  {
   "cell_type": "code",
   "execution_count": null,
   "metadata": {},
   "outputs": [],
   "source": [
    "cursor.execute(\"\"\"\n",
    "select S.sname\n",
    "from Sailors S\n",
    "where not exists\n",
    "    (select b.bid\n",
    "     from Boats B\n",
    "     except\n",
    "     select R.bid\n",
    "     from Reserves R\n",
    "     where R.sid=S.sid)\n",
    "\"\"\")\n",
    "for row in cursor:\n",
    "    print(row)"
   ]
  },
  {
   "cell_type": "markdown",
   "metadata": {},
   "source": [
    "The hard way, without **except**."
   ]
  },
  {
   "cell_type": "code",
   "execution_count": null,
   "metadata": {},
   "outputs": [],
   "source": [
    "cursor.execute(\"\"\"\n",
    "select s.sname\n",
    "from Sailors S\n",
    "where not exists\n",
    "    (select B.bid\n",
    "     from Boats B\n",
    "     where not exists\n",
    "         (select R.bid\n",
    "          from Reserves R\n",
    "          where R.bid=B.bid\n",
    "              and R.sid=S.sid))\n",
    "\"\"\")\n",
    "for row in cursor:\n",
    "    print(row)"
   ]
  },
  {
   "cell_type": "markdown",
   "metadata": {},
   "source": [
    "_Sailors S such that ...  \n",
    "there is no Boat B without ...  \n",
    "a Reserves R tuple showing S reserved B_"
   ]
  },
  {
   "cell_type": "code",
   "execution_count": null,
   "metadata": {},
   "outputs": [],
   "source": []
  }
 ],
 "metadata": {
  "kernelspec": {
   "display_name": "Python 3",
   "language": "python",
   "name": "python3"
  },
  "language_info": {
   "codemirror_mode": {
    "name": "ipython",
    "version": 3
   },
   "file_extension": ".py",
   "mimetype": "text/x-python",
   "name": "python",
   "nbconvert_exporter": "python",
   "pygments_lexer": "ipython3",
   "version": "3.7.3"
  },
  "toc": {
   "base_numbering": 1,
   "nav_menu": {},
   "number_sections": true,
   "sideBar": true,
   "skip_h1_title": false,
   "title_cell": "Table of Contents",
   "title_sidebar": "Contents",
   "toc_cell": false,
   "toc_position": {},
   "toc_section_display": true,
   "toc_window_display": false
  }
 },
 "nbformat": 4,
 "nbformat_minor": 4
}
