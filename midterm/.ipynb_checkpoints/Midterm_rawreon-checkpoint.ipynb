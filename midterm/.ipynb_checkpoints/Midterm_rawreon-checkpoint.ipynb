{
 "cells": [
  {
   "cell_type": "markdown",
   "metadata": {
    "section": "header"
   },
   "source": [
    "<div style=\"text-align: center;\">\n",
    "<h1>The University of North Carolina at Chapel Hill</h1>\n",
    "<h1>Comp 521 Files and Databases - Fall 2019</h1>\n",
    "<h1 style=\"font-size: 250%;\">Midterm Exam</h1>\n",
    "<h1>Tuesday October 6, 2020</h1>\n",
    "</div>\n",
    "\n",
    "**Instructions:** Answer all questions using the cells provided. Feel free to add additional cells to your notebook, but there is no guarantee that they will be considered when grading. If any question seems unclear or appears to lack sufficient information, state a reasonable assumption in the cell provided for your answer and proceed.\n",
    "\n",
    "You can use any notes, books, or on-line materials to aid when answering your questions, so long as they do not involve communication with any other person."
   ]
  },
  {
   "cell_type": "code",
   "execution_count": 1,
   "metadata": {
    "collapsed": true,
    "section": "signature"
   },
   "outputs": [],
   "source": [
    "# Please verify the following signature data. Fix any value that is incorrect\n",
    "class Student:\n",
    "    first = \"Wayne\"\n",
    "    last = \"Ji\"\n",
    "    onyen = \"rawreon\"\n",
    "    pid = \"730168641\""
   ]
  },
  {
   "cell_type": "markdown",
   "metadata": {
    "section": "setup"
   },
   "source": [
    "---\n",
    "The following questions refer to the Covid-19 database used in Problem sets #1 and #2. The database has the following tables:\n",
    "<table style=\"border:none;\"><tbody>\n",
    "        <tr style=\"border:none;\">\n",
    "            <td style=\"padding:0px 20px;border:none;\" colspan=\"2\">\n",
    "            <table style=\"border-collapse: collapse; border: 1px solid black;\"><tbody>\n",
    "            <tr style=\"border-collapse: collapse; border: 1px solid black;\">\n",
    "                <th colspan=\"7\" style=\"text-align:center; background-color: skyblue;\">Demograpics</th></tr>\n",
    "            <tr style=\"border-collapse: collapse; border: 1px solid black;\">\n",
    "                <td style=\"border-collapse: collapse; border: 1px solid black;\"><u>fips</u></td>\n",
    "                <td style=\"border-collapse: collapse; border: 1px solid black;\"><u>year</u></td>\n",
    "                <td style=\"border-collapse: collapse; border: 1px solid black;\"><u>race</u></td>\n",
    "                <td style=\"border-collapse: collapse; border: 1px solid black;\"><u>sex</u></td>\n",
    "                <td style=\"border-collapse: collapse; border: 1px solid black;\"><u>agelo</u></td>\n",
    "                <td style=\"border-collapse: collapse; border: 1px solid black;\">agehi</td>\n",
    "                <td style=\"border-collapse: collapse; border: 1px solid black;\">count</td>\n",
    "            </tr>\n",
    "            </tbody></table>\n",
    "            </td>\n",
    "            <td style=\"padding:0px 20px;border:none;\" colspan=\"2\">\n",
    "            <table style=\"border-collapse: collapse; border: 1px solid black;\"><tbody>\n",
    "            <tr style=\"border-collapse: collapse; border: 1px solid black;\">\n",
    "                <th colspan=\"5\" style=\"text-align:center; background-color: skyblue;\">County</th></tr>\n",
    "            <tr style=\"border-collapse: collapse; border: 1px solid black;\">\n",
    "                <td style=\"border-collapse: collapse; border: 1px solid black;\"><u>fips</u></td>\n",
    "                <td style=\"border-collapse: collapse; border: 1px solid black;\">name</td>\n",
    "                <td style=\"border-collapse: collapse; border: 1px solid black;\">region</td>\n",
    "                <td style=\"border-collapse: collapse; border: 1px solid black;\">cog</td>\n",
    "                <td style=\"border-collapse: collapse; border: 1px solid black;\">msa</td>\n",
    "            </tr>\n",
    "            </tbody></table>\n",
    "            </td>\n",
    "            <td style=\"padding:0px 20px;border:none;\" colspan=\"2\">\n",
    "            <table style=\"border-collapse: collapse; border: 1px solid black;\"><tbody>\n",
    "            <tr style=\"border-collapse: collapse; border: 1px solid black;\">\n",
    "                <th colspan=\"4\" style=\"text-align:center; background-color: skyblue;\">Covid19</th></tr>\n",
    "            <tr style=\"border-collapse: collapse; border: 1px solid black;\">\n",
    "                <td style=\"border-collapse: collapse; border: 1px solid black;\"><u>fips</u></td>\n",
    "                <td style=\"border-collapse: collapse; border: 1px solid black;\"><u>date</u></td>\n",
    "                <td style=\"border-collapse: collapse; border: 1px solid black;\">cases</td>\n",
    "                <td style=\"border-collapse: collapse; border: 1px solid black;\">death</td>\n",
    "            </tr>\n",
    "            </tbody></table>\n",
    "            </td>\n",
    "        </tr>\n",
    "        <tr style=\"border:none;\">\n",
    "            <td colspan=\"6\" style=\"border:none;\">&nbsp;</td>\n",
    "        </tr>\n",
    "        <tr style=\"border:none;\">\n",
    "            <td style=\"padding:0px 20px;border:none;\"  colspan=\"3\">\n",
    "            <table style=\"border-collapse: collapse; border: 1px solid black;\"><tbody>\n",
    "            <tr style=\"border-collapse: collapse; border: 1px solid black;\">\n",
    "                <th colspan=\"8\" style=\"text-align:center; background-color: skyblue;\">Hospital</th></tr>\n",
    "            <tr style=\"border-collapse: collapse; border: 1px solid black;\">\n",
    "                <td style=\"border-collapse: collapse; border: 1px solid black;\"><u>hid</u></td>\n",
    "                <td style=\"border-collapse: collapse; border: 1px solid black;\">name</td>\n",
    "                <td style=\"border-collapse: collapse; border: 1px solid black;\">city</td>\n",
    "                <td style=\"border-collapse: collapse; border: 1px solid black;\">beds</td>\n",
    "                <td style=\"border-collapse: collapse; border: 1px solid black;\">icu</td>\n",
    "                <td style=\"border-collapse: collapse; border: 1px solid black;\">discharges</td>\n",
    "                <td style=\"border-collapse: collapse; border: 1px solid black;\">patientdays</td>\n",
    "                <td style=\"border-collapse: collapse; border: 1px solid black;\">revenue</td>\n",
    "            </tr>\n",
    "            </tbody></table>\n",
    "            </td>\n",
    "            <td style=\"padding:0px 20px;border:none;\" colspan=\"3\">\n",
    "            <table style=\"border-collapse: collapse; border: 1px solid black;\"><tbody>\n",
    "            <tr style=\"border-collapse: collapse; border: 1px solid black;\">\n",
    "                <th colspan=\"3\" style=\"text-align:center; background-color: skyblue;\">HospitalCounty</th></tr>\n",
    "            <tr style=\"border-collapse: collapse; border: 1px solid black;\">\n",
    "                <td style=\"border-collapse: collapse; border: 1px solid black;\"><u>hid</u></td>\n",
    "                <td style=\"border-collapse: collapse; border: 1px solid black;\"><u>fips</u></td>\n",
    "                <td style=\"border-collapse: collapse; border: 1px solid black;\">incounty</td>\n",
    "            </tr>\n",
    "            </tbody></table>\n",
    "            </td>\n",
    "        </tr>\n",
    "        </tbody></table>\n",
    "\n",
    "This <a href=\"http://csbio.unc.edu/mcmillan/Media/NCCOVID19.db\" download>example database</a> is available to download."
   ]
  },
  {
   "cell_type": "markdown",
   "metadata": {
    "case": 2,
    "key": "C01",
    "number": 1,
    "section": "problem"
   },
   "source": [
    "---\n",
    "**Problem #1:** Add a new table to the Covid-19 database for \"ZipCodeTabulationArea\", that includes a county *fips* identifier, a post office *zipcode*, a *year*, and an integer *population*. Note that zipcodes can span multiple counties, and counties can have multiple zipcodes. Also, every county falls within at least one ZCTA. The US Census Bureau reports its counts according to Zip Code Tabulation Areas, ZCTAs. ZCTAs are generally more fine-grain than counties, particularly, within densely populated urban areas (i.e. NC has over 1000 zipcodes but only 100 counties). Recently, the NC department of health has begun reporting COVID-19 cases by zipcode using ZCTAs.\n",
    "\n",
    "<table style=\"border-collapse: collapse; border: 1px solid black;\"><tbody>\n",
    "<tr style=\"border-collapse: collapse; border: 1px solid black; background: skyblue;\">\n",
    "    <th colspan=\"4\" style=\"text-align:center;\">ZipCodeTabulationArea</th></tr>\n",
    "<tr style=\"border-collapse: collapse; border: 1px solid black;\">\n",
    "    <td style=\"border-collapse: collapse; border: 1px solid black;\">fips</td>\n",
    "    <td style=\"border-collapse: collapse; border: 1px solid black;\">zipcode</td>\n",
    "    <td style=\"border-collapse: collapse; border: 1px solid black;\">year</td>\n",
    "    <td style=\"border-collapse: collapse; border: 1px solid black;\">population</td>\n",
    "</tr>\n",
    "</tbody></table>\n",
    "   \n",
    "In the space provided below give a SQL statement to create such a table. Include types for all attributes, default values, any necessary intra-table integrity constraints, and any foreign keys."
   ]
  },
  {
   "cell_type": "raw",
   "metadata": {
    "case": 2,
    "key": "C01",
    "number": 1,
    "section": "answer"
   },
   "source": [
    "CREATE TABLE ZipCodeTabulationArea {\n",
    "    fips int,\n",
    "    zipcode int,\n",
    "    year date,\n",
    "    population int,\n",
    "    PRIMARY KEY P_KEY (fips,zipcode),\n",
    "    FOREIGN KEY (fips)\n",
    "}\n"
   ]
  },
  {
   "cell_type": "markdown",
   "metadata": {
    "case": 2,
    "key": "C02",
    "number": 2,
    "section": "problem"
   },
   "source": [
    "---\n",
    "**Problem #2:** In the space below write a single SQL query that uses the table described in **Problem #1** to generate every county's population computed by summing all demographic groups to the same county's population reported by summing all Zip Code Tabulation Areas. Your result should be a list of tuples with the following attributes: the county's name, its population across all demographics groups, and its population by ZCTAs."
   ]
  },
  {
   "cell_type": "raw",
   "metadata": {
    "case": 2,
    "key": "C02",
    "number": 2,
    "section": "answer"
   },
   "source": [
    "SELECT C.name, sum(D.count), T.pop_by_ZCTA\n",
    "FROM County C, Demographics D,\n",
    "(SELECT fips, sum(population) as pop_by_ZCTA\n",
    "FROM ZipCodeTabulationArea\n",
    "GROUP BY zipcode) as T\n",
    "WHERE C.fips = D.fips and D.fips = T.fips\n",
    "Group By D.fips"
   ]
  },
  {
   "cell_type": "markdown",
   "metadata": {
    "case": 2,
    "key": "C03",
    "number": 3,
    "section": "problem"
   },
   "source": [
    "---\n",
    "**Problem #3:** Write a single SQL statement that outputs (in the given order) the names, regions, and metropolitan areas of all counties that include \"Charlotte\" in their metropolitan area."
   ]
  },
  {
   "cell_type": "raw",
   "metadata": {
    "case": 2,
    "key": "C03",
    "number": 3,
    "section": "answer"
   },
   "source": [
    "SELECT name, region, msa\n",
    "FROM COUNTY\n",
    "WHERE MSA LIKE '%Charlotte%'"
   ]
  },
  {
   "cell_type": "markdown",
   "metadata": {
    "case": 1,
    "key": "C04",
    "number": 4,
    "section": "problem"
   },
   "source": [
    "---\n",
    "**Problem #4:** Write a single SQL statement that outputs (in the given order) the names of counties with a 2020 preschool population (age <=5) of 20000 or more and the number of residents in the qualifying demographic."
   ]
  },
  {
   "cell_type": "raw",
   "metadata": {
    "case": 1,
    "key": "C04",
    "number": 4,
    "section": "answer"
   },
   "source": [
    "Select C.name, T.precount\n",
    "FROM Demographics D, County C,\n",
    "(SELECT fips, sum(count) as precount\n",
    "FROM Demographics\n",
    "WHERE year = 2020 and agelo <= 5 \n",
    "Group By fips) as T\n",
    "Where C.fips = D.fips and D.fips = T.fips and D.year = 2020 and T.precount >= 20000\n",
    "Group By D.fips"
   ]
  },
  {
   "cell_type": "markdown",
   "metadata": {
    "case": 4,
    "key": "C05",
    "number": 5,
    "section": "problem"
   },
   "source": [
    "---\n",
    "**Problem #5:** Consider the following two SQL queries:\n",
    "<pre>\n",
    "    SELECT DISTINCT deaths       -- Query 1\n",
    "    FROM Covid19</pre>\n",
    "\n",
    "<pre>\n",
    "    SELECT DISTINCT MAX(deaths)  -- Query 2\n",
    "    FROM Covid19\n",
    "    GROUP BY date</pre>\n",
    "    \n",
    "In the space below answer the following questions:\n",
    "* How many rows are returned by Query 1?\n",
    "* How many rows are returned by Query 2?\n",
    "* Provide a short explaination of the semantic differences between these *queries*"
   ]
  },
  {
   "cell_type": "raw",
   "metadata": {
    "case": 4,
    "key": "C05",
    "number": 5,
    "section": "answer"
   },
   "source": [
    "Number of rows returned by Query 1: 15\n",
    "Number of rows returned by Query 2: 15\n",
    "Enter your explaination below: Query 1 creates a table that contains a copy of each number of deaths that appears in Covid19, while Query 2 creates a table that contains a copy of each number of maximum deaths for each date, putting all the values of the same date in one group."
   ]
  },
  {
   "cell_type": "markdown",
   "metadata": {
    "section": "setup"
   },
   "source": [
    "Methods from the <code>datetime</code> Python package might be useful for the following problem. In particular, the ability to convert ISO formatted date strings, like those used for sqlite's DATE type to a proleptic Gregorian ordinal day (i.e. a integer for each sequential date where '0001-01-01' is 1). Shown below are examples of how to convert between ISOdates to ordinals.\n",
    "\n",
    "```python\n",
    "import datetime\n",
    "\n",
    "date = datetime.date.fromisoformat(\"2020-10-06\")            # loads a \"date\" type into a date object \n",
    "ordDay = date.toordinal()                                   # returns the ordinal day\n",
    "isoDate = datetime.date.fromordinal(ordDay).isoformat()     # converts an ordinal day to a \"date\" type\n",
    "print(ordDay, isoDate)\n",
    "\n",
    "for ordDay in [1,730120,737704,737732,2000000]:             # assorted ordinal dates\n",
    "    print(datetime.date.fromordinal(ordDay).isoformat())\n",
    "```\n",
    "\n",
    "Which produces the following output:\n",
    "```\n",
    "737704 2020-10-06\n",
    "0001-01-01\n",
    "2000-01-01\n",
    "2020-10-06\n",
    "2020-11-03\n",
    "5476-10-24\n",
    "```"
   ]
  },
  {
   "cell_type": "markdown",
   "metadata": {
    "case": 0,
    "key": "C06",
    "number": 6,
    "section": "problem"
   },
   "source": [
    "---\n",
    "**Problem #6:** As the DBA for NCCOVID19.db you decide that it is annoying that between the date of the first reported Covid-19 in North Carolina to the last reported date in the database, there exist a few days for which *no county* has a report. To remedy this problem you decide to INSERT records for those missing days using the \"UNKNOWN\" county (fips = 0) with 0 cases and 0 deaths. Use the following template to implement this function. Place all of your code within the function's body replacing the \"# Put your code here\" comment. Notice that the db.commit() function has been commented out. You should leave it that way, which will allow you to call the function several times. Your function should return a list of ISOformatted date strings for which there were no Covid-19 records.\n",
    "\n",
    "```python\n",
    "import datetime\n",
    "import sqlite3\n",
    "\n",
    "def covidMissingDates():\n",
    "    dates = []\n",
    "    db = sqlite3.connect(\"NCCOVID19.db\")\n",
    "    db.row_factory = sqlite3.Row\n",
    "    db.text_factory = str\n",
    "    cursor = db.cursor()\n",
    "    # Put your code here\n",
    "    # db.commit()       # commented out to aid debugging\n",
    "    db.close()\n",
    "    return dates\n",
    "```"
   ]
  },
  {
   "cell_type": "code",
   "execution_count": 1,
   "metadata": {
    "case": 0,
    "key": "C06",
    "number": 6,
    "section": "answer"
   },
   "outputs": [],
   "source": [
    "import datetime\n",
    "import sqlite3\n",
    "\n",
    "def covidMissingDates():\n",
    "    dates = []\n",
    "    db = sqlite3.connect(\"NCCOVID19.db\")\n",
    "    db.row_factory = sqlite3.Row\n",
    "    db.text_factory = str\n",
    "    cursor = db.cursor()\n",
    "    cursor.execute(\"\"\"\n",
    "    INSERT INTO Covid19 (fips,date,cases,death)\n",
    "    VALUES (0 , , 0, 0)\n",
    "    \"\"\")\n",
    "    # db.commit()\n",
    "    db.close()\n",
    "    return dates"
   ]
  },
  {
   "cell_type": "markdown",
   "metadata": {
    "section": "setup"
   },
   "source": [
    "Consider the following B<sup>+</sup>Tree with a height of 2 that indexes 10 records using an integer search key:\n",
    "<div align=\"center\"><img src=\"http://www.csbio.unc.edu/mcmillan/Media/BplusTreeF20.png\" width=\"636px\"></div>"
   ]
  },
  {
   "cell_type": "markdown",
   "metadata": {
    "case": 0,
    "key": "C07",
    "number": 7,
    "section": "problem"
   },
   "source": [
    "---\n",
    "**Problem #7:** What will be the contents of the left-most leaf of the resulting B<sup>+</sup> tree if a new record with a search key of 8 is added? What is the height of the resulting tree?"
   ]
  },
  {
   "cell_type": "raw",
   "metadata": {
    "case": 0,
    "key": "C07",
    "number": 7,
    "section": "answer"
   },
   "source": [
    "First answer: 2\n",
    "Second answer: 3"
   ]
  },
  {
   "cell_type": "markdown",
   "metadata": {
    "case": 2,
    "key": "C08",
    "number": 8,
    "section": "problem"
   },
   "source": [
    "---\n",
    "**Problem #8:** Assuming steering and leaf page nodes with the same number of search keys as shown in the example B<sup>+</sup> tree above, what is the largest number of records that could indexed by a tree with a height of 4 assuming there is only one key in the root node?"
   ]
  },
  {
   "cell_type": "raw",
   "metadata": {
    "case": 2,
    "key": "C08",
    "number": 8,
    "section": "answer"
   },
   "source": [
    "192"
   ]
  },
  {
   "cell_type": "markdown",
   "metadata": {
    "case": 3,
    "key": "C09",
    "number": 9,
    "section": "problem"
   },
   "source": [
    "---\n",
    "**Problem #9:** Give a brief explaination of the differences between the two following SQL commands:\n",
    "<pre>SELECT * FROM Demographics WHERE year=2020 GROUP BY fips HAVING SUM(count)>50000</pre>\n",
    "and\n",
    "<pre>SELECT * FROM Demographics WHERE year=2020 GROUP BY fips,race HAVING SUM(count)>50000</pre>\n",
    "\n",
    "Your answer should apply to *any* instance of the same schema, not any specific version."
   ]
  },
  {
   "cell_type": "raw",
   "metadata": {
    "case": 3,
    "key": "C09",
    "number": 9,
    "section": "answer"
   },
   "source": [
    "The second query puts all the values with the same fips and race into one group, while the first one only puts the values with the same fips into a group."
   ]
  },
  {
   "cell_type": "markdown",
   "metadata": {
    "case": 2,
    "key": "C10",
    "number": 10,
    "section": "problem"
   },
   "source": [
    "---\n",
    "**Problem #10:**. The following table gives actual statistics for an instance of the NCCOVID19 database with the given schema. For each table in the database it gives the total number of 4096 byte blocks, the total number of records in the table, and the number of unused bytes in all table pages.\n",
    "\n",
    "| table / index\t| pages\t| records\t| unused bytes |\n",
    "| ----- | --------- | --------- | ----------- |\n",
    "| Demographics\t| 2240\t| 283138\t| 38529 |\n",
    "| County\t| 3\t| 100\t| 3243 |\n",
    "| Covid19\t| 75\t| 11215\t| 38954 |\n",
    "| Hospital\t| 2\t| 108\t| 1625 |\n",
    "| HospitalCounty\t| 1\t| 115\t| 2593 |\n",
    "\n",
    "Which table has the highest page utilization percentage? Also, provide your estimate of the utilization percentage for that table?"
   ]
  },
  {
   "cell_type": "raw",
   "metadata": {
    "case": 2,
    "key": "C10",
    "number": 10,
    "section": "answer"
   },
   "source": [
    "Answer 1: Hospital County\n",
    "Answer 2: 63%"
   ]
  },
  {
   "cell_type": "markdown",
   "metadata": {
    "section": "setup"
   },
   "source": [
    "Save a copy of your Midterm notebook and then click [here to submit](http://csbio.unc.edu/mcmillan/index.py?run=Exam.upload) turn in your Examination"
   ]
  }
 ],
 "metadata": {
  "anaconda-cloud": {},
  "kernelspec": {
   "display_name": "Python 3",
   "language": "python",
   "name": "python3"
  },
  "language_info": {
   "codemirror_mode": {
    "name": "ipython",
    "version": 3
   },
   "file_extension": ".py",
   "mimetype": "text/x-python",
   "name": "python",
   "nbconvert_exporter": "python",
   "pygments_lexer": "ipython3",
   "version": "3.8.3"
  }
 },
 "nbformat": 4,
 "nbformat_minor": 1
}
